{
 "cells": [
  {
   "cell_type": "markdown",
   "metadata": {},
   "source": [
    "# Descripción"
   ]
  },
  {
   "cell_type": "markdown",
   "metadata": {},
   "source": [
    "La compañía de seguros Sure Tomorrow quiere resolver varias tareas con la ayuda de machine learning y te pide que evalúes esa posibilidad.\n",
    "- Tarea 1: encontrar clientes que sean similares a un cliente determinado. Esto ayudará a los agentes de la compañía con el marketing.\n",
    "- Tarea 2: predecir la probabilidad de que un nuevo cliente reciba una prestación del seguro. ¿Puede un modelo de predictivo funcionar mejor que un modelo dummy?\n",
    "- Tarea 3: predecir el número de prestaciones de seguro que un nuevo cliente pueda recibir utilizando un modelo de regresión lineal.\n",
    "- Tarea 4: proteger los datos personales de los clientes sin afectar al modelo del ejercicio anterior. Es necesario desarrollar un algoritmo de transformación de datos que dificulte la recuperación de la información personal si los datos caen en manos equivocadas. Esto se denomina enmascaramiento u ofuscación de datos. Pero los datos deben protegerse de tal manera que no se vea afectada la calidad de los modelos de machine learning. No es necesario elegir el mejor modelo, basta con demostrar que el algoritmo funciona correctamente.\n"
   ]
  },
  {
   "cell_type": "markdown",
   "metadata": {},
   "source": [
    "# Preprocesamiento y exploración de datos\n",
    "\n",
    "## Inicialización"
   ]
  },
  {
   "cell_type": "code",
   "execution_count": 1,
   "metadata": {},
   "outputs": [],
   "source": [
    "# pip install scikit-learn --upgrade"
   ]
  },
  {
   "cell_type": "code",
   "execution_count": 2,
   "metadata": {},
   "outputs": [],
   "source": [
    "import numpy as np\n",
    "import pandas as pd\n",
    "from sklearn.neighbors import NearestNeighbors\n",
    "from sklearn.preprocessing import MaxAbsScaler\n",
    "from sklearn.metrics import mean_squared_error, r2_score\n",
    "import seaborn as sns\n",
    "import math\n",
    "from sklearn.metrics import f1_score\n",
    "import matplotlib.pyplot as plt\n",
    "import sklearn.linear_model\n",
    "import sklearn.metrics\n",
    "import sklearn.neighbors\n",
    "import sklearn.preprocessing\n",
    "from sklearn.linear_model import LinearRegression\n",
    "from sklearn.model_selection import train_test_split\n",
    "from sklearn.neighbors import KNeighborsClassifier\n",
    "from IPython.display import display\n",
    "from sklearn.preprocessing import StandardScaler"
   ]
  },
  {
   "cell_type": "markdown",
   "metadata": {},
   "source": [
    "## Carga de datos"
   ]
  },
  {
   "cell_type": "markdown",
   "metadata": {},
   "source": [
    "Carga los datos y haz una revisión básica para comprobar que no hay problemas obvios."
   ]
  },
  {
   "cell_type": "code",
   "execution_count": 3,
   "metadata": {},
   "outputs": [],
   "source": [
    "df = pd.read_csv('/datasets/insurance_us.csv')"
   ]
  },
  {
   "cell_type": "markdown",
   "metadata": {},
   "source": [
    "Renombramos las columnas para que el código se vea más coherente con su estilo."
   ]
  },
  {
   "cell_type": "code",
   "execution_count": 4,
   "metadata": {},
   "outputs": [],
   "source": [
    "df = df.rename(columns={'Gender': 'gender', 'Age': 'age', 'Salary': 'income', 'Family members': 'family_members', 'Insurance benefits': 'insurance_benefits'})"
   ]
  },
  {
   "cell_type": "code",
   "execution_count": 5,
   "metadata": {
    "scrolled": true
   },
   "outputs": [
    {
     "data": {
      "text/html": [
       "<div>\n",
       "<style scoped>\n",
       "    .dataframe tbody tr th:only-of-type {\n",
       "        vertical-align: middle;\n",
       "    }\n",
       "\n",
       "    .dataframe tbody tr th {\n",
       "        vertical-align: top;\n",
       "    }\n",
       "\n",
       "    .dataframe thead th {\n",
       "        text-align: right;\n",
       "    }\n",
       "</style>\n",
       "<table border=\"1\" class=\"dataframe\">\n",
       "  <thead>\n",
       "    <tr style=\"text-align: right;\">\n",
       "      <th></th>\n",
       "      <th>gender</th>\n",
       "      <th>age</th>\n",
       "      <th>income</th>\n",
       "      <th>family_members</th>\n",
       "      <th>insurance_benefits</th>\n",
       "    </tr>\n",
       "  </thead>\n",
       "  <tbody>\n",
       "    <tr>\n",
       "      <th>186</th>\n",
       "      <td>0</td>\n",
       "      <td>22.0</td>\n",
       "      <td>50800.0</td>\n",
       "      <td>0</td>\n",
       "      <td>0</td>\n",
       "    </tr>\n",
       "    <tr>\n",
       "      <th>3747</th>\n",
       "      <td>0</td>\n",
       "      <td>29.0</td>\n",
       "      <td>42900.0</td>\n",
       "      <td>4</td>\n",
       "      <td>0</td>\n",
       "    </tr>\n",
       "    <tr>\n",
       "      <th>3997</th>\n",
       "      <td>0</td>\n",
       "      <td>25.0</td>\n",
       "      <td>18700.0</td>\n",
       "      <td>2</td>\n",
       "      <td>0</td>\n",
       "    </tr>\n",
       "    <tr>\n",
       "      <th>4327</th>\n",
       "      <td>0</td>\n",
       "      <td>39.0</td>\n",
       "      <td>36600.0</td>\n",
       "      <td>0</td>\n",
       "      <td>0</td>\n",
       "    </tr>\n",
       "    <tr>\n",
       "      <th>2615</th>\n",
       "      <td>1</td>\n",
       "      <td>35.0</td>\n",
       "      <td>43200.0</td>\n",
       "      <td>2</td>\n",
       "      <td>0</td>\n",
       "    </tr>\n",
       "    <tr>\n",
       "      <th>2483</th>\n",
       "      <td>1</td>\n",
       "      <td>33.0</td>\n",
       "      <td>53000.0</td>\n",
       "      <td>1</td>\n",
       "      <td>0</td>\n",
       "    </tr>\n",
       "    <tr>\n",
       "      <th>2610</th>\n",
       "      <td>1</td>\n",
       "      <td>48.0</td>\n",
       "      <td>57800.0</td>\n",
       "      <td>0</td>\n",
       "      <td>1</td>\n",
       "    </tr>\n",
       "    <tr>\n",
       "      <th>4175</th>\n",
       "      <td>0</td>\n",
       "      <td>25.0</td>\n",
       "      <td>42100.0</td>\n",
       "      <td>2</td>\n",
       "      <td>0</td>\n",
       "    </tr>\n",
       "    <tr>\n",
       "      <th>4486</th>\n",
       "      <td>1</td>\n",
       "      <td>18.0</td>\n",
       "      <td>41900.0</td>\n",
       "      <td>1</td>\n",
       "      <td>0</td>\n",
       "    </tr>\n",
       "    <tr>\n",
       "      <th>4824</th>\n",
       "      <td>1</td>\n",
       "      <td>20.0</td>\n",
       "      <td>46500.0</td>\n",
       "      <td>0</td>\n",
       "      <td>0</td>\n",
       "    </tr>\n",
       "  </tbody>\n",
       "</table>\n",
       "</div>"
      ],
      "text/plain": [
       "      gender   age   income  family_members  insurance_benefits\n",
       "186        0  22.0  50800.0               0                   0\n",
       "3747       0  29.0  42900.0               4                   0\n",
       "3997       0  25.0  18700.0               2                   0\n",
       "4327       0  39.0  36600.0               0                   0\n",
       "2615       1  35.0  43200.0               2                   0\n",
       "2483       1  33.0  53000.0               1                   0\n",
       "2610       1  48.0  57800.0               0                   1\n",
       "4175       0  25.0  42100.0               2                   0\n",
       "4486       1  18.0  41900.0               1                   0\n",
       "4824       1  20.0  46500.0               0                   0"
      ]
     },
     "execution_count": 5,
     "metadata": {},
     "output_type": "execute_result"
    }
   ],
   "source": [
    "df.sample(10)"
   ]
  },
  {
   "cell_type": "code",
   "execution_count": 6,
   "metadata": {},
   "outputs": [
    {
     "name": "stdout",
     "output_type": "stream",
     "text": [
      "<class 'pandas.core.frame.DataFrame'>\n",
      "RangeIndex: 5000 entries, 0 to 4999\n",
      "Data columns (total 5 columns):\n",
      " #   Column              Non-Null Count  Dtype  \n",
      "---  ------              --------------  -----  \n",
      " 0   gender              5000 non-null   int64  \n",
      " 1   age                 5000 non-null   float64\n",
      " 2   income              5000 non-null   float64\n",
      " 3   family_members      5000 non-null   int64  \n",
      " 4   insurance_benefits  5000 non-null   int64  \n",
      "dtypes: float64(2), int64(3)\n",
      "memory usage: 195.4 KB\n"
     ]
    }
   ],
   "source": [
    "df.info()"
   ]
  },
  {
   "cell_type": "code",
   "execution_count": 7,
   "metadata": {},
   "outputs": [],
   "source": [
    "# puede que queramos cambiar el tipo de edad (de float a int) aunque esto no es crucial\n",
    "\n",
    "# escribe tu conversión aquí si lo deseas:\n",
    "\n",
    "df['age'] = df['age'].astype(int)"
   ]
  },
  {
   "cell_type": "code",
   "execution_count": 8,
   "metadata": {},
   "outputs": [
    {
     "name": "stdout",
     "output_type": "stream",
     "text": [
      "<class 'pandas.core.frame.DataFrame'>\n",
      "RangeIndex: 5000 entries, 0 to 4999\n",
      "Data columns (total 5 columns):\n",
      " #   Column              Non-Null Count  Dtype  \n",
      "---  ------              --------------  -----  \n",
      " 0   gender              5000 non-null   int64  \n",
      " 1   age                 5000 non-null   int64  \n",
      " 2   income              5000 non-null   float64\n",
      " 3   family_members      5000 non-null   int64  \n",
      " 4   insurance_benefits  5000 non-null   int64  \n",
      "dtypes: float64(1), int64(4)\n",
      "memory usage: 195.4 KB\n"
     ]
    }
   ],
   "source": [
    "# comprueba que la conversión se haya realizado con éxito\n",
    "df.info()"
   ]
  },
  {
   "cell_type": "code",
   "execution_count": 9,
   "metadata": {},
   "outputs": [
    {
     "data": {
      "text/html": [
       "<div>\n",
       "<style scoped>\n",
       "    .dataframe tbody tr th:only-of-type {\n",
       "        vertical-align: middle;\n",
       "    }\n",
       "\n",
       "    .dataframe tbody tr th {\n",
       "        vertical-align: top;\n",
       "    }\n",
       "\n",
       "    .dataframe thead th {\n",
       "        text-align: right;\n",
       "    }\n",
       "</style>\n",
       "<table border=\"1\" class=\"dataframe\">\n",
       "  <thead>\n",
       "    <tr style=\"text-align: right;\">\n",
       "      <th></th>\n",
       "      <th>gender</th>\n",
       "      <th>age</th>\n",
       "      <th>income</th>\n",
       "      <th>family_members</th>\n",
       "      <th>insurance_benefits</th>\n",
       "    </tr>\n",
       "  </thead>\n",
       "  <tbody>\n",
       "    <tr>\n",
       "      <th>count</th>\n",
       "      <td>5000.000000</td>\n",
       "      <td>5000.000000</td>\n",
       "      <td>5000.000000</td>\n",
       "      <td>5000.000000</td>\n",
       "      <td>5000.000000</td>\n",
       "    </tr>\n",
       "    <tr>\n",
       "      <th>mean</th>\n",
       "      <td>0.499000</td>\n",
       "      <td>30.952800</td>\n",
       "      <td>39916.360000</td>\n",
       "      <td>1.194200</td>\n",
       "      <td>0.148000</td>\n",
       "    </tr>\n",
       "    <tr>\n",
       "      <th>std</th>\n",
       "      <td>0.500049</td>\n",
       "      <td>8.440807</td>\n",
       "      <td>9900.083569</td>\n",
       "      <td>1.091387</td>\n",
       "      <td>0.463183</td>\n",
       "    </tr>\n",
       "    <tr>\n",
       "      <th>min</th>\n",
       "      <td>0.000000</td>\n",
       "      <td>18.000000</td>\n",
       "      <td>5300.000000</td>\n",
       "      <td>0.000000</td>\n",
       "      <td>0.000000</td>\n",
       "    </tr>\n",
       "    <tr>\n",
       "      <th>25%</th>\n",
       "      <td>0.000000</td>\n",
       "      <td>24.000000</td>\n",
       "      <td>33300.000000</td>\n",
       "      <td>0.000000</td>\n",
       "      <td>0.000000</td>\n",
       "    </tr>\n",
       "    <tr>\n",
       "      <th>50%</th>\n",
       "      <td>0.000000</td>\n",
       "      <td>30.000000</td>\n",
       "      <td>40200.000000</td>\n",
       "      <td>1.000000</td>\n",
       "      <td>0.000000</td>\n",
       "    </tr>\n",
       "    <tr>\n",
       "      <th>75%</th>\n",
       "      <td>1.000000</td>\n",
       "      <td>37.000000</td>\n",
       "      <td>46600.000000</td>\n",
       "      <td>2.000000</td>\n",
       "      <td>0.000000</td>\n",
       "    </tr>\n",
       "    <tr>\n",
       "      <th>max</th>\n",
       "      <td>1.000000</td>\n",
       "      <td>65.000000</td>\n",
       "      <td>79000.000000</td>\n",
       "      <td>6.000000</td>\n",
       "      <td>5.000000</td>\n",
       "    </tr>\n",
       "  </tbody>\n",
       "</table>\n",
       "</div>"
      ],
      "text/plain": [
       "            gender          age        income  family_members  \\\n",
       "count  5000.000000  5000.000000   5000.000000     5000.000000   \n",
       "mean      0.499000    30.952800  39916.360000        1.194200   \n",
       "std       0.500049     8.440807   9900.083569        1.091387   \n",
       "min       0.000000    18.000000   5300.000000        0.000000   \n",
       "25%       0.000000    24.000000  33300.000000        0.000000   \n",
       "50%       0.000000    30.000000  40200.000000        1.000000   \n",
       "75%       1.000000    37.000000  46600.000000        2.000000   \n",
       "max       1.000000    65.000000  79000.000000        6.000000   \n",
       "\n",
       "       insurance_benefits  \n",
       "count         5000.000000  \n",
       "mean             0.148000  \n",
       "std              0.463183  \n",
       "min              0.000000  \n",
       "25%              0.000000  \n",
       "50%              0.000000  \n",
       "75%              0.000000  \n",
       "max              5.000000  "
      ]
     },
     "execution_count": 9,
     "metadata": {},
     "output_type": "execute_result"
    }
   ],
   "source": [
    "# ahora echa un vistazo a las estadísticas descriptivas de los datos.# ¿Se ve todo bien?\n",
    "\n",
    "df.describe()"
   ]
  },
  {
   "cell_type": "code",
   "execution_count": 10,
   "metadata": {},
   "outputs": [
    {
     "data": {
      "text/html": [
       "<div>\n",
       "<style scoped>\n",
       "    .dataframe tbody tr th:only-of-type {\n",
       "        vertical-align: middle;\n",
       "    }\n",
       "\n",
       "    .dataframe tbody tr th {\n",
       "        vertical-align: top;\n",
       "    }\n",
       "\n",
       "    .dataframe thead th {\n",
       "        text-align: right;\n",
       "    }\n",
       "</style>\n",
       "<table border=\"1\" class=\"dataframe\">\n",
       "  <thead>\n",
       "    <tr style=\"text-align: right;\">\n",
       "      <th></th>\n",
       "      <th>gender</th>\n",
       "      <th>age</th>\n",
       "      <th>income</th>\n",
       "      <th>family_members</th>\n",
       "      <th>insurance_benefits</th>\n",
       "    </tr>\n",
       "  </thead>\n",
       "  <tbody>\n",
       "    <tr>\n",
       "      <th>0</th>\n",
       "      <td>1</td>\n",
       "      <td>41</td>\n",
       "      <td>49600.0</td>\n",
       "      <td>1</td>\n",
       "      <td>0</td>\n",
       "    </tr>\n",
       "    <tr>\n",
       "      <th>1</th>\n",
       "      <td>0</td>\n",
       "      <td>46</td>\n",
       "      <td>38000.0</td>\n",
       "      <td>1</td>\n",
       "      <td>1</td>\n",
       "    </tr>\n",
       "    <tr>\n",
       "      <th>2</th>\n",
       "      <td>0</td>\n",
       "      <td>29</td>\n",
       "      <td>21000.0</td>\n",
       "      <td>0</td>\n",
       "      <td>0</td>\n",
       "    </tr>\n",
       "    <tr>\n",
       "      <th>3</th>\n",
       "      <td>0</td>\n",
       "      <td>21</td>\n",
       "      <td>41700.0</td>\n",
       "      <td>2</td>\n",
       "      <td>0</td>\n",
       "    </tr>\n",
       "    <tr>\n",
       "      <th>4</th>\n",
       "      <td>1</td>\n",
       "      <td>28</td>\n",
       "      <td>26100.0</td>\n",
       "      <td>0</td>\n",
       "      <td>0</td>\n",
       "    </tr>\n",
       "    <tr>\n",
       "      <th>5</th>\n",
       "      <td>1</td>\n",
       "      <td>43</td>\n",
       "      <td>41000.0</td>\n",
       "      <td>2</td>\n",
       "      <td>1</td>\n",
       "    </tr>\n",
       "    <tr>\n",
       "      <th>6</th>\n",
       "      <td>1</td>\n",
       "      <td>39</td>\n",
       "      <td>39700.0</td>\n",
       "      <td>2</td>\n",
       "      <td>0</td>\n",
       "    </tr>\n",
       "    <tr>\n",
       "      <th>7</th>\n",
       "      <td>1</td>\n",
       "      <td>25</td>\n",
       "      <td>38600.0</td>\n",
       "      <td>4</td>\n",
       "      <td>0</td>\n",
       "    </tr>\n",
       "    <tr>\n",
       "      <th>8</th>\n",
       "      <td>1</td>\n",
       "      <td>36</td>\n",
       "      <td>49700.0</td>\n",
       "      <td>1</td>\n",
       "      <td>0</td>\n",
       "    </tr>\n",
       "    <tr>\n",
       "      <th>9</th>\n",
       "      <td>1</td>\n",
       "      <td>32</td>\n",
       "      <td>51700.0</td>\n",
       "      <td>1</td>\n",
       "      <td>0</td>\n",
       "    </tr>\n",
       "  </tbody>\n",
       "</table>\n",
       "</div>"
      ],
      "text/plain": [
       "   gender  age   income  family_members  insurance_benefits\n",
       "0       1   41  49600.0               1                   0\n",
       "1       0   46  38000.0               1                   1\n",
       "2       0   29  21000.0               0                   0\n",
       "3       0   21  41700.0               2                   0\n",
       "4       1   28  26100.0               0                   0\n",
       "5       1   43  41000.0               2                   1\n",
       "6       1   39  39700.0               2                   0\n",
       "7       1   25  38600.0               4                   0\n",
       "8       1   36  49700.0               1                   0\n",
       "9       1   32  51700.0               1                   0"
      ]
     },
     "execution_count": 10,
     "metadata": {},
     "output_type": "execute_result"
    }
   ],
   "source": [
    "df.head(10)"
   ]
  },
  {
   "cell_type": "code",
   "execution_count": 11,
   "metadata": {},
   "outputs": [
    {
     "name": "stdout",
     "output_type": "stream",
     "text": [
      "      gender  age   income  family_members  insurance_benefits\n",
      "281        1   39  48100.0               1                   0\n",
      "488        1   24  32900.0               1                   0\n",
      "513        0   31  37400.0               2                   0\n",
      "718        1   22  32600.0               1                   0\n",
      "785        0   20  35800.0               0                   0\n",
      "...      ...  ...      ...             ...                 ...\n",
      "4793       1   24  37800.0               0                   0\n",
      "4902       1   35  38700.0               1                   0\n",
      "4935       1   19  32700.0               0                   0\n",
      "4945       1   21  45800.0               0                   0\n",
      "4965       0   22  40100.0               1                   0\n",
      "\n",
      "[153 rows x 5 columns]\n"
     ]
    }
   ],
   "source": [
    "print(df[df.duplicated()])"
   ]
  },
  {
   "cell_type": "code",
   "execution_count": 12,
   "metadata": {},
   "outputs": [],
   "source": [
    "df.drop_duplicates(inplace= True)"
   ]
  },
  {
   "cell_type": "markdown",
   "metadata": {},
   "source": [
    "## Análisis exploratorio de datos"
   ]
  },
  {
   "cell_type": "markdown",
   "metadata": {},
   "source": [
    "Vamos a comprobar rápidamente si existen determinados grupos de clientes observando el gráfico de pares."
   ]
  },
  {
   "cell_type": "code",
   "execution_count": 13,
   "metadata": {},
   "outputs": [
    {
     "data": {
      "image/png": "[encoded data removed]",
      "text/plain": [
       "<Figure size 1200x1200 with 30 Axes>"
      ]
     },
     "metadata": {},
     "output_type": "display_data"
    }
   ],
   "source": [
    "g = sns.pairplot(df, kind='hist')\n",
    "g.fig.set_size_inches(12, 12)"
   ]
  },
  {
   "cell_type": "markdown",
   "metadata": {},
   "source": [
    "De acuerdo, es un poco complicado detectar grupos obvios (clústeres) ya que es difícil combinar diversas variables simultáneamente (para analizar distribuciones multivariadas). Ahí es donde LA y ML pueden ser bastante útiles."
   ]
  },
  {
   "cell_type": "markdown",
   "metadata": {},
   "source": [
    "# Tarea 1. Clientes similares"
   ]
  },
  {
   "cell_type": "markdown",
   "metadata": {},
   "source": [
    "En el lenguaje de ML, es necesario desarrollar un procedimiento que devuelva los k vecinos más cercanos (objetos) para un objeto dado basándose en la distancia entre los objetos.\n",
    "Es posible que quieras revisar las siguientes lecciones (capítulo -> lección)- Distancia entre vectores -> Distancia euclidiana\n",
    "- Distancia entre vectores -> Distancia Manhattan\n",
    "\n",
    "Para resolver la tarea, podemos probar diferentes métricas de distancia."
   ]
  },
  {
   "cell_type": "markdown",
   "metadata": {},
   "source": [
    "Escribe una función que devuelva los k vecinos más cercanos para un $n^{th}$ objeto basándose en una métrica de distancia especificada. A la hora de realizar esta tarea no debe tenerse en cuenta el número de prestaciones de seguro recibidas.\n",
    "Puedes utilizar una implementación ya existente del algoritmo kNN de scikit-learn (consulta [el enlace](https://scikit-learn.org/stable/modules/generated/sklearn.neighbors.NearestNeighbors.html#sklearn.neighbors.NearestNeighbors)) o tu propia implementación.\n",
    "Pruébalo para cuatro combinaciones de dos casos- Escalado\n",
    "  - los datos no están escalados\n",
    "  - los datos se escalan con el escalador [MaxAbsScaler](https://scikit-learn.org/stable/modules/generated/sklearn.preprocessing.MaxAbsScaler.html)\n",
    "- Métricas de distancia\n",
    "  - Euclidiana\n",
    "  - Manhattan\n",
    "\n",
    "Responde a estas preguntas:- ¿El hecho de que los datos no estén escalados afecta al algoritmo kNN? Si es así, ¿cómo se manifiesta?- ¿Qué tan similares son los resultados al utilizar la métrica de distancia Manhattan (independientemente del escalado)?"
   ]
  },
  {
   "cell_type": "code",
   "execution_count": 14,
   "metadata": {},
   "outputs": [],
   "source": [
    "feature_names = ['gender', 'age', 'income', 'family_members']"
   ]
  },
  {
   "cell_type": "code",
   "execution_count": 15,
   "metadata": {},
   "outputs": [],
   "source": [
    "def get_knn(df, n, k, metric):\n",
    "    \n",
    "    \"\"\"\n",
    "    Devuelve los k vecinos más cercanos\n",
    "    \n",
    "    :param df: DataFrame de pandas utilizado para encontrar objetos similares dentro del mismo lugar    \n",
    "    :param n: número de objetos para los que se buscan los vecinos más cercanos    \n",
    "    :param k: número de vecinos más cercanos a devolver\n",
    "    :param métrica: nombre de la métrica de distancia    \n",
    "    \n",
    "    \"\"\"\n",
    "    nbrs = NearestNeighbors(n_neighbors=k, metric=metric) # <tu código aquí> \n",
    "    nbrs.fit(df[feature_names].copy())\n",
    "    nbrs_distances, nbrs_indices = nbrs.kneighbors([df.iloc[n][feature_names]], k, return_distance=True)\n",
    "    \n",
    "    df_res = pd.concat([\n",
    "        df.iloc[nbrs_indices[0]], \n",
    "        pd.DataFrame(nbrs_distances.T, index=nbrs_indices[0], columns=['distance'])\n",
    "        ], axis=1)\n",
    "    \n",
    "    return df_res"
   ]
  },
  {
   "cell_type": "markdown",
   "metadata": {},
   "source": [
    "Escalar datos."
   ]
  },
  {
   "cell_type": "code",
   "execution_count": 16,
   "metadata": {},
   "outputs": [],
   "source": [
    "feature_names = ['gender', 'age', 'income', 'family_members']\n",
    "\n",
    "transformer_mas = sklearn.preprocessing.MaxAbsScaler().fit(df[feature_names].to_numpy())\n",
    "\n",
    "df_scaled = df.copy()\n",
    "df_scaled.loc[:, feature_names] = transformer_mas.transform(df[feature_names].to_numpy())"
   ]
  },
  {
   "cell_type": "code",
   "execution_count": 17,
   "metadata": {},
   "outputs": [],
   "source": [
    "#df_scaled.sample(5)"
   ]
  },
  {
   "cell_type": "code",
   "execution_count": 18,
   "metadata": {},
   "outputs": [
    {
     "data": {
      "text/plain": [
       "array([0, 1, 2, 3, 5, 4])"
      ]
     },
     "execution_count": 18,
     "metadata": {},
     "output_type": "execute_result"
    }
   ],
   "source": [
    "df['insurance_benefits'].unique()"
   ]
  },
  {
   "cell_type": "markdown",
   "metadata": {},
   "source": [
    "Ahora, vamos a obtener registros similares para uno determinado, para cada combinación"
   ]
  },
  {
   "cell_type": "code",
   "execution_count": 19,
   "metadata": {},
   "outputs": [
    {
     "name": "stdout",
     "output_type": "stream",
     "text": [
      "Sin escalado, métrica euclidiana:\n",
      "      gender   age   income  family_members  insurance_benefits  distance\n",
      "0        1.0  41.0  49600.0             1.0                 0.0  0.000000\n",
      "1214     NaN   NaN      NaN             NaN                 NaN  1.732051\n",
      "1225     0.0  42.0  49600.0             0.0                 1.0       NaN\n",
      "1992     NaN   NaN      NaN             NaN                 NaN  1.000000\n",
      "2022     1.0  41.0  49600.0             0.0                 0.0       NaN\n"
     ]
    }
   ],
   "source": [
    "# Ejemplo de uso\n",
    "n = 0  # índice del objeto para el cual buscamos vecinos\n",
    "k = 3  # número de vecinos más cercanos a devolver\n",
    "\n",
    "# Sin escalado, métrica euclidiana\n",
    "print(\"Sin escalado, métrica euclidiana:\")\n",
    "print(get_knn(df, n, k, 'euclidean'))"
   ]
  },
  {
   "cell_type": "code",
   "execution_count": 20,
   "metadata": {},
   "outputs": [
    {
     "name": "stdout",
     "output_type": "stream",
     "text": [
      "Sin escalado, métrica Manhattan:\n",
      "      gender   age   income  family_members  insurance_benefits  distance\n",
      "0        1.0  41.0  49600.0             1.0                 0.0       0.0\n",
      "1214     NaN   NaN      NaN             NaN                 NaN       3.0\n",
      "1225     0.0  42.0  49600.0             0.0                 1.0       NaN\n",
      "1992     NaN   NaN      NaN             NaN                 NaN       1.0\n",
      "2022     1.0  41.0  49600.0             0.0                 0.0       NaN\n"
     ]
    }
   ],
   "source": [
    "# Sin escalado, métrica Manhattan\n",
    "print(\"Sin escalado, métrica Manhattan:\")\n",
    "print(get_knn(df, n, k, 'manhattan'))"
   ]
  },
  {
   "cell_type": "code",
   "execution_count": 21,
   "metadata": {},
   "outputs": [
    {
     "name": "stdout",
     "output_type": "stream",
     "text": [
      "Con escalado, métrica euclidiana:\n",
      "      gender       age    income  family_members  insurance_benefits  distance\n",
      "0        1.0  0.630769  0.627848        0.166667                 0.0  0.000000\n",
      "133      1.0  0.615385  0.636709        0.166667                 0.0  0.017754\n",
      "2632     NaN       NaN       NaN             NaN                 NaN  0.006329\n",
      "2689     1.0  0.630769  0.634177        0.166667                 0.0       NaN\n"
     ]
    }
   ],
   "source": [
    "# Con escalado, métrica euclidiana\n",
    "print(\"Con escalado, métrica euclidiana:\")\n",
    "print(get_knn(df_scaled, n, k, 'euclidean'))"
   ]
  },
  {
   "cell_type": "code",
   "execution_count": 22,
   "metadata": {},
   "outputs": [
    {
     "name": "stdout",
     "output_type": "stream",
     "text": [
      "Con escalado, métrica Manhattan:\n",
      "      gender       age    income  family_members  insurance_benefits  distance\n",
      "0        1.0  0.630769  0.627848        0.166667                 0.0  0.000000\n",
      "133      1.0  0.615385  0.636709        0.166667                 0.0  0.024245\n",
      "2632     NaN       NaN       NaN             NaN                 NaN  0.006329\n",
      "2689     1.0  0.630769  0.634177        0.166667                 0.0       NaN\n"
     ]
    }
   ],
   "source": [
    "# Con escalado, métrica Manhattan\n",
    "print(\"Con escalado, métrica Manhattan:\")\n",
    "print(get_knn(df_scaled, n, k, 'manhattan'))"
   ]
  },
  {
   "cell_type": "markdown",
   "metadata": {},
   "source": [
    "Respuestas a las preguntas"
   ]
  },
  {
   "cell_type": "markdown",
   "metadata": {},
   "source": [
    "**¿El hecho de que los datos no estén escalados afecta al algoritmo kNN? Si es así, ¿cómo se manifiesta?** \n",
    "\n",
    "Sí, el hecho de que los datos no estén escalados afecta al algoritmo kNN. Las características con mayores rangos (por ejemplo, 'income') tendrán una mayor influencia en las distancias calculadas, lo que puede distorsionar los resultados. El escalado ayuda a igualar la influencia de cada característica."
   ]
  },
  {
   "cell_type": "markdown",
   "metadata": {},
   "source": [
    "**¿Qué tan similares son los resultados al utilizar la métrica de distancia Manhattan (independientemente del escalado)?** \n",
    "\n",
    "Los resultados pueden variar al usar la métrica de distancia Manhattan en comparación con la métrica euclidiana. La métrica Manhattan calcula la distancia como la suma de las diferencias absolutas entre las características, mientras que la métrica euclidiana considera la raíz cuadrada de la suma de las diferencias al cuadrado. Por lo tanto, la métrica seleccionada puede producir diferentes conjuntos de vecinos más cercanos."
   ]
  },
  {
   "cell_type": "markdown",
   "metadata": {},
   "source": [
    "# Tarea 2. ¿Es probable que el cliente reciba una prestación del seguro?"
   ]
  },
  {
   "cell_type": "markdown",
   "metadata": {},
   "source": [
    "En términos de machine learning podemos considerarlo como una tarea de clasificación binaria."
   ]
  },
  {
   "cell_type": "markdown",
   "metadata": {},
   "source": [
    "Con el valor de `insurance_benefits` superior a cero como objetivo, evalúa si el enfoque de clasificación kNN puede funcionar mejor que el modelo dummy.\n",
    "Instrucciones:\n",
    "- Construye un clasificador basado en KNN y mide su calidad con la métrica F1 para k=1...10 tanto para los datos originales como para los escalados. Sería interesante observar cómo k puede influir en la métrica de evaluación y si el escalado de los datos provoca alguna diferencia. Puedes utilizar una implementación ya existente del algoritmo de clasificación kNN de scikit-learn (consulta [el enlace](https://scikit-learn.org/stable/modules/generated/sklearn.neighbors.KNeighborsClassifier.html)) o tu propia implementación.- Construye un modelo dummy que, en este caso, es simplemente un modelo aleatorio. Debería devolver \"1\" con cierta probabilidad. Probemos el modelo con cuatro valores de probabilidad: 0, la probabilidad de pagar cualquier prestación del seguro, 0.5, 1.\n",
    "La probabilidad de pagar cualquier prestación del seguro puede definirse como\n",
    "$$\n",
    "P\\{\\text{prestación de seguro recibida}\\}=\\frac{\\text{número de clientes que han recibido alguna prestación de seguro}}{\\text{número total de clientes}}.\n",
    "$$\n",
    "\n",
    "Divide todos los datos correspondientes a las etapas de entrenamiento/prueba respetando la proporción 70:30."
   ]
  },
  {
   "cell_type": "code",
   "execution_count": 23,
   "metadata": {},
   "outputs": [],
   "source": [
    "# сalcula el objetivo\n",
    "df.loc[df['insurance_benefits'] > 0, 'insurance_benefits_received'] = df['insurance_benefits']\n",
    "df['insurance_benefits_received'].fillna(0, inplace= True)\n",
    "df['insurance_benefits_received'] = df['insurance_benefits_received'].astype(int)\n",
    "#<tu código aquí>"
   ]
  },
  {
   "cell_type": "code",
   "execution_count": 24,
   "metadata": {},
   "outputs": [
    {
     "name": "stdout",
     "output_type": "stream",
     "text": [
      "[0 1 2 3 5 4]\n"
     ]
    }
   ],
   "source": [
    " print(df['insurance_benefits_received'].unique())"
   ]
  },
  {
   "cell_type": "code",
   "execution_count": 25,
   "metadata": {},
   "outputs": [],
   "source": [
    "df['insurance_benefits_received'].replace(['2', '3', '4', '5'], '1')\n",
    "df['insurance_benefits_received'] = df['insurance_benefits_received'].replace({2: 1, 3: 1, 4: 1, 5: 1})"
   ]
  },
  {
   "cell_type": "code",
   "execution_count": 26,
   "metadata": {},
   "outputs": [
    {
     "name": "stdout",
     "output_type": "stream",
     "text": [
      "      gender  age   income  family_members  insurance_benefits  \\\n",
      "0          1   41  49600.0               1                   0   \n",
      "1          0   46  38000.0               1                   1   \n",
      "2          0   29  21000.0               0                   0   \n",
      "3          0   21  41700.0               2                   0   \n",
      "4          1   28  26100.0               0                   0   \n",
      "...      ...  ...      ...             ...                 ...   \n",
      "4995       0   28  35700.0               2                   0   \n",
      "4996       0   34  52400.0               1                   0   \n",
      "4997       0   20  33900.0               2                   0   \n",
      "4998       1   22  32700.0               3                   0   \n",
      "4999       1   28  40600.0               1                   0   \n",
      "\n",
      "      insurance_benefits_received  \n",
      "0                               0  \n",
      "1                               1  \n",
      "2                               0  \n",
      "3                               0  \n",
      "4                               0  \n",
      "...                           ...  \n",
      "4995                            0  \n",
      "4996                            0  \n",
      "4997                            0  \n",
      "4998                            0  \n",
      "4999                            0  \n",
      "\n",
      "[4847 rows x 6 columns]\n"
     ]
    }
   ],
   "source": [
    "print(df)"
   ]
  },
  {
   "cell_type": "code",
   "execution_count": 27,
   "metadata": {
    "scrolled": true
   },
   "outputs": [
    {
     "data": {
      "text/plain": [
       "0    0.883846\n",
       "1    0.116154\n",
       "Name: insurance_benefits_received, dtype: float64"
      ]
     },
     "execution_count": 27,
     "metadata": {},
     "output_type": "execute_result"
    }
   ],
   "source": [
    "# comprueba el desequilibrio de clases con value_counts()\n",
    "\n",
    "df['insurance_benefits_received'].value_counts(normalize= True)\n",
    "\n",
    "# <tu código aquí>"
   ]
  },
  {
   "cell_type": "code",
   "execution_count": 28,
   "metadata": {},
   "outputs": [],
   "source": [
    "def eval_classifier(y_true, y_pred):\n",
    "    \n",
    "    f1_score = sklearn.metrics.f1_score(y_true, y_pred)\n",
    "    print(f'F1: {f1_score:.2f}')\n",
    "    \n",
    "# si tienes algún problema con la siguiente línea, reinicia el kernel y ejecuta el cuaderno de nuevo    \n",
    "    cm = sklearn.metrics.confusion_matrix(y_true, y_pred, normalize='all')\n",
    "    print('Matriz de confusión')\n",
    "    print(cm)"
   ]
  },
  {
   "cell_type": "code",
   "execution_count": 29,
   "metadata": {},
   "outputs": [],
   "source": [
    "# generar la salida de un modelo aleatorio\n",
    "\n",
    "def rnd_model_predict(P, size, seed=42):\n",
    "\n",
    "    rng = np.random.default_rng(seed=seed)\n",
    "    return rng.binomial(n=1, p=P, size=size)"
   ]
  },
  {
   "cell_type": "code",
   "execution_count": 30,
   "metadata": {},
   "outputs": [
    {
     "name": "stdout",
     "output_type": "stream",
     "text": [
      "La probabilidad: 0.00\n",
      "F1: 0.00\n",
      "Matriz de confusión\n",
      "[[0.88384568 0.        ]\n",
      " [0.11615432 0.        ]]\n",
      "\n",
      "La probabilidad: 0.12\n",
      "F1: 0.13\n",
      "Matriz de confusión\n",
      "[[0.78502166 0.09882401]\n",
      " [0.1017124  0.01444192]]\n",
      "\n",
      "La probabilidad: 0.50\n",
      "F1: 0.19\n",
      "Matriz de confusión\n",
      "[[0.44873117 0.4351145 ]\n",
      " [0.05921188 0.05694244]]\n",
      "\n",
      "La probabilidad: 1.00\n",
      "F1: 0.21\n",
      "Matriz de confusión\n",
      "[[0.         0.88384568]\n",
      " [0.         0.11615432]]\n",
      "\n"
     ]
    }
   ],
   "source": [
    "for P in [0, df['insurance_benefits_received'].sum() / len(df), 0.5, 1]:\n",
    "\n",
    "    print(f'La probabilidad: {P:.2f}')\n",
    "    y_pred_rnd = rnd_model_predict(P, size=len(df))\n",
    "    \n",
    "    # <tu código aquí> \n",
    "        \n",
    "    eval_classifier(df['insurance_benefits_received'], y_pred_rnd)\n",
    "    \n",
    "    print()"
   ]
  },
  {
   "cell_type": "code",
   "execution_count": 31,
   "metadata": {},
   "outputs": [
    {
     "data": {
      "image/png": "[encoded data removed]",
      "text/plain": [
       "<Figure size 1200x600 with 1 Axes>"
      ]
     },
     "metadata": {},
     "output_type": "display_data"
    },
    {
     "name": "stdout",
     "output_type": "stream",
     "text": [
      "k=1: F1 Score original=0.6875, F1 Score escalado=1.0000\n",
      "k=2: F1 Score original=0.5430, F1 Score escalado=1.0000\n",
      "k=3: F1 Score original=0.5217, F1 Score escalado=1.0000\n",
      "k=4: F1 Score original=0.1062, F1 Score escalado=1.0000\n",
      "k=5: F1 Score original=0.1008, F1 Score escalado=1.0000\n",
      "k=6: F1 Score original=0.0727, F1 Score escalado=1.0000\n",
      "k=7: F1 Score original=0.0893, F1 Score escalado=1.0000\n",
      "k=8: F1 Score original=0.0187, F1 Score escalado=1.0000\n",
      "k=9: F1 Score original=0.0370, F1 Score escalado=1.0000\n",
      "k=10: F1 Score original=0.0187, F1 Score escalado=1.0000\n"
     ]
    }
   ],
   "source": [
    "# Separar características y variable objetivo\n",
    "features = df.drop(columns=['insurance_benefits_received'])\n",
    "target = df['insurance_benefits_received']\n",
    "\n",
    "# Dividir los datos en conjuntos de entrenamiento y prueba\n",
    "X_train, X_test, y_train, y_test = train_test_split(features, target, test_size=0.2, random_state=42)\n",
    "\n",
    "# Inicializar listas para almacenar los resultados\n",
    "f1_scores_original = []\n",
    "f1_scores_scaled = []\n",
    "\n",
    "# Escalar los datos\n",
    "scaler = StandardScaler()\n",
    "X_train_scaled = scaler.fit_transform(X_train)\n",
    "X_test_scaled = scaler.transform(X_test)\n",
    "\n",
    "# Evaluar para k = 1...10\n",
    "k_values = range(1, 11)\n",
    "for k in k_values:\n",
    "    # Modelo KNN con datos originales\n",
    "    knn_original = KNeighborsClassifier(n_neighbors=k)\n",
    "    knn_original.fit(X_train, y_train)\n",
    "    y_pred_original = knn_original.predict(X_test)\n",
    "    f1_original = f1_score(y_test, y_pred_original)\n",
    "    f1_scores_original.append(f1_original)\n",
    "    \n",
    "    # Modelo KNN con datos escalados\n",
    "    knn_scaled = KNeighborsClassifier(n_neighbors=k)\n",
    "    knn_scaled.fit(X_train_scaled, y_train)\n",
    "    y_pred_scaled = knn_scaled.predict(X_test_scaled)\n",
    "    f1_scaled = f1_score(y_test, y_pred_scaled)\n",
    "    f1_scores_scaled.append(f1_scaled)\n",
    "\n",
    "# Graficar los resultados\n",
    "plt.figure(figsize=(12, 6))\n",
    "plt.plot(k_values, f1_scores_original, marker='o', label='Datos originales')\n",
    "plt.plot(k_values, f1_scores_scaled, marker='o', label='Datos escalados')\n",
    "plt.title('Comparación de la métrica F1 para KNN con y sin escalado')\n",
    "plt.xlabel('Número de vecinos (k)')\n",
    "plt.ylabel('F1 Score')\n",
    "plt.legend()\n",
    "plt.grid(True)\n",
    "plt.show()\n",
    "\n",
    "# Imprimir los resultados\n",
    "for k in k_values:\n",
    "    print(f\"k={k}: F1 Score original={f1_scores_original[k-1]:.4f}, F1 Score escalado={f1_scores_scaled[k-1]:.4f}\")"
   ]
  },
  {
   "cell_type": "markdown",
   "metadata": {},
   "source": [
    "# Tarea 3. Regresión (con regresión lineal)"
   ]
  },
  {
   "cell_type": "markdown",
   "metadata": {},
   "source": [
    "Con `insurance_benefits` como objetivo, evalúa cuál sería la RECM de un modelo de regresión lineal."
   ]
  },
  {
   "cell_type": "markdown",
   "metadata": {},
   "source": [
    "Construye tu propia implementación de regresión lineal. Para ello, recuerda cómo está formulada la solución de la tarea de regresión lineal en términos de LA. Comprueba la RECM tanto para los datos originales como para los escalados. ¿Puedes ver alguna diferencia en la RECM con respecto a estos dos casos?\n",
    "\n",
    "Denotemos- $X$: matriz de características; cada fila es un caso, cada columna es una característica, la primera columna está formada por unidades- $y$ — objetivo (un vector)- $\\hat{y}$ — objetivo estimado (un vector)- $w$ — vector de pesos\n",
    "La tarea de regresión lineal en el lenguaje de las matrices puede formularse así:\n",
    "$$\n",
    "y = Xw\n",
    "$$\n",
    "\n",
    "El objetivo de entrenamiento es entonces encontrar esa $w$ w que minimice la distancia L2 (ECM) entre $Xw$ y $y$:\n",
    "\n",
    "$$\n",
    "\\min_w d_2(Xw, y) \\quad \\text{or} \\quad \\min_w \\text{MSE}(Xw, y)\n",
    "$$\n",
    "\n",
    "Parece que hay una solución analítica para lo anteriormente expuesto:\n",
    "$$\n",
    "w = (X^T X)^{-1} X^T y\n",
    "$$\n",
    "\n",
    "La fórmula anterior puede servir para encontrar los pesos $w$ y estos últimos pueden utilizarse para calcular los valores predichos\n",
    "$$\n",
    "\\hat{y} = X_{val}w\n",
    "$$"
   ]
  },
  {
   "cell_type": "markdown",
   "metadata": {},
   "source": [
    "Divide todos los datos correspondientes a las etapas de entrenamiento/prueba respetando la proporción 70:30. Utiliza la métrica RECM para evaluar el modelo."
   ]
  },
  {
   "cell_type": "code",
   "execution_count": 32,
   "metadata": {},
   "outputs": [],
   "source": [
    "class MyLinearRegression:\n",
    "    \n",
    "    def __init__(self):\n",
    "        self.weights = None\n",
    "    \n",
    "    def fit(self, X, y):\n",
    "        # añadir las unidades\n",
    "        X2 = np.append(np.ones([len(X), 1]), X, axis=1)\n",
    "        # calcular los pesos usando la fórmula analítica\n",
    "        self.weights = np.linalg.inv(X2.T @ X2) @ X2.T @ y\n",
    "\n",
    "    def predict(self, X):\n",
    "        # añadir las unidades\n",
    "        X2 = np.append(np.ones([len(X), 1]), X, axis=1)\n",
    "        y_pred = X2 @ self.weights\n",
    "        return y_pred"
   ]
  },
  {
   "cell_type": "code",
   "execution_count": 33,
   "metadata": {},
   "outputs": [],
   "source": [
    "def eval_regressor(y_true, y_pred):\n",
    "    \n",
    "    rmse = math.sqrt(sklearn.metrics.mean_squared_error(y_true, y_pred))\n",
    "    print(f'RMSE: {rmse:.2f}')\n",
    "    \n",
    "    r2_score = math.sqrt(sklearn.metrics.r2_score(y_true, y_pred))\n",
    "    print(f'R2: {r2_score:.2f}')    "
   ]
  },
  {
   "cell_type": "code",
   "execution_count": null,
   "metadata": {},
   "outputs": [],
   "source": []
  },
  {
   "cell_type": "code",
   "execution_count": 34,
   "metadata": {},
   "outputs": [
    {
     "name": "stdout",
     "output_type": "stream",
     "text": [
      "[-9.77366729e-01  3.58042291e-02  1.95594888e-02  5.85336165e-07\n",
      " -1.21618420e-02]\n",
      "RMSE: 0.36\n",
      "R2: 0.66\n"
     ]
    }
   ],
   "source": [
    "X = df[['age', 'gender', 'income', 'family_members']].to_numpy()\n",
    "y = df['insurance_benefits'].to_numpy()\n",
    "\n",
    "X_train, X_test, y_train, y_test = train_test_split(X, y, test_size=0.3, random_state=12345)\n",
    "\n",
    "lr = MyLinearRegression()\n",
    "\n",
    "lr.fit(X_train, y_train)\n",
    "print(lr.weights)\n",
    "\n",
    "y_test_pred = lr.predict(X_test)\n",
    "eval_regressor(y_test, y_test_pred)"
   ]
  },
  {
   "cell_type": "markdown",
   "metadata": {},
   "source": [
    "# Tarea 4. Ofuscar datos"
   ]
  },
  {
   "cell_type": "markdown",
   "metadata": {},
   "source": [
    "Lo mejor es ofuscar los datos multiplicando las características numéricas (recuerda que se pueden ver como la matriz $X$) por una matriz invertible $P$. \n",
    "\n",
    "$$\n",
    "X' = X \\times P\n",
    "$$\n",
    "\n",
    "Trata de hacerlo y comprueba cómo quedarán los valores de las características después de la transformación. Por cierto, la propiedad de invertibilidad es importante aquí, así que asegúrate de que $P$ sea realmente invertible.\n",
    "\n",
    "Puedes revisar la lección 'Matrices y operaciones matriciales -> Multiplicación de matrices' para recordar la regla de multiplicación de matrices y su implementación con NumPy."
   ]
  },
  {
   "cell_type": "code",
   "execution_count": 35,
   "metadata": {},
   "outputs": [],
   "source": [
    "personal_info_column_list = ['gender', 'age', 'income', 'family_members']\n",
    "df_pn = df[personal_info_column_list]"
   ]
  },
  {
   "cell_type": "code",
   "execution_count": 36,
   "metadata": {},
   "outputs": [],
   "source": [
    "X = df_pn.to_numpy()"
   ]
  },
  {
   "cell_type": "markdown",
   "metadata": {},
   "source": [
    "Generar una matriz aleatoria $P$."
   ]
  },
  {
   "cell_type": "code",
   "execution_count": 37,
   "metadata": {},
   "outputs": [],
   "source": [
    "rng = np.random.default_rng(seed=42)\n",
    "P = rng.random(size=(X.shape[1], X.shape[1]))"
   ]
  },
  {
   "cell_type": "markdown",
   "metadata": {},
   "source": [
    "Comprobar que la matriz P sea invertible"
   ]
  },
  {
   "cell_type": "code",
   "execution_count": 38,
   "metadata": {},
   "outputs": [
    {
     "name": "stdout",
     "output_type": "stream",
     "text": [
      "La matriz es invertible: True\n"
     ]
    }
   ],
   "source": [
    "def is_invertible(matrix):\n",
    "    return np.linalg.det(matrix) != 0\n",
    "\n",
    "\n",
    "print(\"La matriz es invertible:\", is_invertible(P))"
   ]
  },
  {
   "cell_type": "code",
   "execution_count": 39,
   "metadata": {},
   "outputs": [
    {
     "name": "stdout",
     "output_type": "stream",
     "text": [
      "Datos originales:\n",
      "   age  gender   income  family_members\n",
      "0   41       1  49600.0               1\n",
      "1   46       0  38000.0               1\n",
      "2   29       0  21000.0               0\n",
      "3   21       0  41700.0               2\n",
      "4   28       1  26100.0               0\n",
      "\n",
      "Datos transformados:\n",
      "           age        gender        income  family_members\n",
      "0  6359.715273  22380.404676  18424.090742    46000.696690\n",
      "1  4873.294065  17160.367030  14125.780761    35253.455773\n",
      "2  2693.117429   9486.397744   7808.831560    19484.860631\n",
      "3  5345.603937  18803.227203  15479.148373    38663.061863\n",
      "4  3347.176735  11782.829283   9699.998942    24211.273378\n",
      "\n",
      "Datos recuperados:\n",
      "            age  gender   income  family_members\n",
      "0  1.000000e+00    41.0  49600.0    1.000000e+00\n",
      "1 -4.473636e-12    46.0  38000.0    1.000000e+00\n",
      "2 -2.515869e-12    29.0  21000.0    9.524523e-13\n",
      "3 -4.844982e-12    21.0  41700.0    2.000000e+00\n",
      "4  1.000000e+00    28.0  26100.0   -1.019907e-13\n"
     ]
    }
   ],
   "source": [
    "X_transformed = X @ P\n",
    "\n",
    "# Recuperar los datos originales\n",
    "P_inv = np.linalg.inv(P)\n",
    "X_recovered = X_transformed @ P_inv\n",
    "\n",
    "# Crear un DataFrame para mostrar los resultados\n",
    "df_transformed = pd.DataFrame(X_transformed, columns=['age', 'gender', 'income', 'family_members'])\n",
    "df_recovered = pd.DataFrame(X_recovered, columns=['age', 'gender', 'income', 'family_members'])\n",
    "\n",
    "# Mostrar los tres casos para algunos clientes\n",
    "print(\"Datos originales:\")\n",
    "print(df[['age', 'gender', 'income', 'family_members']].head())\n",
    "\n",
    "print(\"\\nDatos transformados:\")\n",
    "print(df_transformed.head())\n",
    "\n",
    "print(\"\\nDatos recuperados:\")\n",
    "print(df_recovered.head())"
   ]
  },
  {
   "cell_type": "markdown",
   "metadata": {},
   "source": [
    "¿Puedes adivinar la edad o los ingresos de los clientes después de la transformación?"
   ]
  },
  {
   "cell_type": "markdown",
   "metadata": {},
   "source": [
    "Después de la transformación, los datos están ofuscados, lo que significa que las columnas originales (edad, género, ingresos, miembros de la familia) se han combinado de una manera no intuitiva debido a la multiplicación por la matriz invertible. No se puede adivinar la edad o los ingresos originales simplemente mirando los datos transformados, ya que han perdido su interpretación directa."
   ]
  },
  {
   "cell_type": "markdown",
   "metadata": {},
   "source": [
    "¿Puedes recuperar los datos originales de $X'$ si conoces $P$? Intenta comprobarlo a través de los cálculos moviendo $P$ del lado derecho de la fórmula anterior al izquierdo. En este caso las reglas de la multiplicación matricial son realmente útiles"
   ]
  },
  {
   "cell_type": "markdown",
   "metadata": {},
   "source": [
    "Sí, si conoces la matriz 𝑃, puedes recuperar los datos originales. La recuperación se realiza multiplicando los datos transformados por la inversa de 𝑃. Esto se debe a que:\n",
    "\n",
    "𝑋\n",
    "′\n",
    "=\n",
    "𝑋\n",
    "⋅\n",
    "𝑃\n",
    "X \n",
    "′\n",
    " =X⋅P\n",
    "𝑋\n",
    "=\n",
    "𝑋\n",
    "′\n",
    "⋅\n",
    "𝑃\n",
    "−\n",
    "1\n",
    "X=X \n",
    "′\n",
    " ⋅P \n",
    "−1"
   ]
  },
  {
   "cell_type": "markdown",
   "metadata": {},
   "source": [
    "Muestra los tres casos para algunos clientes- Datos originales\n",
    "- El que está transformado- El que está invertido (recuperado)"
   ]
  },
  {
   "cell_type": "markdown",
   "metadata": {},
   "source": [
    "El código anterior ya muestra los tres casos para algunos clientes: los datos originales, los datos transformados y los datos recuperados. Puedes ejecutar el código para ver los resultados."
   ]
  },
  {
   "cell_type": "markdown",
   "metadata": {},
   "source": [
    "Seguramente puedes ver que algunos valores no son exactamente iguales a los de los datos originales. ¿Cuál podría ser la razón de ello?"
   ]
  },
  {
   "cell_type": "markdown",
   "metadata": {},
   "source": [
    "La razón por la que algunos valores no son exactamente iguales a los de los datos originales podría ser debido a errores de precisión numérica inherentes en las operaciones de álgebra lineal con números en coma flotante. Durante la multiplicación y la inversión de matrices, pueden ocurrir pequeñas imprecisiones que resultan en ligeras diferencias en los valores recuperados."
   ]
  },
  {
   "cell_type": "markdown",
   "metadata": {},
   "source": [
    "## Prueba de que la ofuscación de datos puede funcionar con regresión lineal"
   ]
  },
  {
   "cell_type": "markdown",
   "metadata": {},
   "source": [
    "En este proyecto la tarea de regresión se ha resuelto con la regresión lineal. Tu siguiente tarea es demostrar _analytically_ que el método de ofuscación no afectará a la regresión lineal en términos de valores predichos, es decir, que sus valores seguirán siendo los mismos. ¿Lo puedes creer? Pues no hace falta que lo creas, ¡tienes que que demostrarlo!"
   ]
  },
  {
   "cell_type": "markdown",
   "metadata": {},
   "source": [
    "Entonces, los datos están ofuscados y ahora tenemos $X \\times P$ en lugar de tener solo $X$. En consecuencia, hay otros pesos $w_P$ como\n",
    "$$\n",
    "w = (X^T X)^{-1} X^T y \\quad \\Rightarrow \\quad w_P = [(XP)^T XP]^{-1} (XP)^T y\n",
    "$$\n",
    "\n",
    "¿Cómo se relacionarían $w$ y $w_P$ si simplificáramos la fórmula de $w_P$ anterior? \n",
    "\n",
    "¿Cuáles serían los valores predichos con $w_P$? \n",
    "\n",
    "¿Qué significa esto para la calidad de la regresión lineal si esta se mide mediante la RECM?\n",
    "Revisa el Apéndice B Propiedades de las matrices al final del cuaderno. ¡Allí encontrarás fórmulas muy útiles!\n",
    "\n",
    "No es necesario escribir código en esta sección, basta con una explicación analítica."
   ]
  },
  {
   "cell_type": "markdown",
   "metadata": {},
   "source": [
    "**Respuesta**"
   ]
  },
  {
   "cell_type": "markdown",
   "metadata": {},
   "source": [
    "\n",
    "No se pueden adivinar los valores originales (edad, ingresos) a partir de los datos transformados.\n",
    "Los datos originales se pueden recuperar si se conoce la matriz \n",
    "𝑃 invertible.\n",
    "Los valores predichos con la regresión lineal no se ven afectados por la ofuscación de los datos.\n",
    "La calidad de la regresión lineal, medida por el RMSE, permanece igual antes y después de la ofuscación."
   ]
  },
  {
   "cell_type": "markdown",
   "metadata": {},
   "source": [
    "**Prueba analítica**"
   ]
  },
  {
   "cell_type": "markdown",
   "metadata": {},
   "source": [
    "Para demostrar que la ofuscación de datos no afecta a los valores predichos en una regresión lineal, consideremos la siguiente situación:\n",
    "\n",
    "1. **Modelo de regresión lineal original**:\n",
    "   \n",
    "   Dado un conjunto de datos \\(X\\) (matriz de características) y \\(y\\) (vector de respuestas), los coeficientes de regresión \\(w\\) se pueden obtener mediante la fórmula:\n",
    "   $$\n",
    "   w = (X^T X)^{-1} X^T y\n",
    "   $$\n",
    "   \n",
    "2. **Modelo de regresión lineal con datos ofuscados**:\n",
    "   \n",
    "   Si los datos están ofuscados mediante una matriz \\(P\\), obtenemos una nueva matriz \\(X' = X P\\). Queremos encontrar los nuevos coeficientes \\(w_P\\) tal que:\n",
    "   $$\n",
    "   w_P = [(X P)^T (X P)]^{-1} (X P)^T y\n",
    "   $$\n",
    "\n",
    "Para demostrar que la ofuscación no afecta los valores predichos, sigamos los pasos:\n",
    "\n",
    "### 1. Relación entre \\(w\\) y \\(w_P\\)\n",
    "\n",
    "Para encontrar la relación entre \\(w\\) y \\(w_P\\), simplificamos la fórmula de \\(w_P\\):\n",
    "$$\n",
    "w_P = [(X P)^T (X P)]^{-1} (X P)^T y\n",
    "$$\n",
    "\n",
    "Expandiendo la expresión:\n",
    "$$\n",
    "w_P = [P^T X^T X P]^{-1} P^T X^T y\n",
    "$$\n",
    "\n",
    "Usamos la propiedad de las matrices inversas \\((A B)^{-1} = B^{-1} A^{-1}\\):\n",
    "$$\n",
    "w_P = P^{-1} (X^T X)^{-1} (P^T)^{-1} P^T X^T y\n",
    "$$\n",
    "\n",
    "Dado que \\(P^T\\) es la transpuesta de \\(P\\), tenemos que \\((P^T)^{-1} = (P^{-1})^T\\). Por lo tanto:\n",
    "$$\n",
    "w_P = P^{-1} (X^T X)^{-1} X^T y\n",
    "$$\n",
    "\n",
    "Recordando que:\n",
    "$$\n",
    "w = (X^T X)^{-1} X^T y\n",
    "$$\n",
    "\n",
    "Sustituyendo \\(w\\) en la ecuación de \\(w_P\\):\n",
    "$$\n",
    "w_P = P^{-1} w\n",
    "$$\n",
    "\n",
    "### 2. Valores predichos con \\(w_P\\)\n",
    "\n",
    "Los valores predichos \\(\\hat{y}\\) para el modelo original son:\n",
    "$$\n",
    "\\hat{y} = X w\n",
    "$$\n",
    "\n",
    "Para el modelo ofuscado, los valores predichos \\(\\hat{y_P}\\) son:\n",
    "$$\n",
    "\\hat{y_P} = X P w_P\n",
    "$$\n",
    "\n",
    "Sustituyendo \\(w_P\\):\n",
    "$$\n",
    "\\hat{y_P} = X P (P^{-1} w) = X w\n",
    "$$\n",
    "\n",
    "Esto muestra que los valores predichos \\(\\hat{y_P}\\) con los datos ofuscados son iguales a los valores predichos \\(\\hat{y}\\) con los datos originales.\n",
    "\n",
    "### 3. Impacto en la calidad de la regresión lineal (RECM)\n",
    "\n",
    "La raíz del error cuadrático medio (RECM) se define como:\n",
    "$$\n",
    "\\text{RECM} = \\sqrt{\\frac{1}{n} \\sum_{i=1}^{n} (y_i - \\hat{y}_i)^2}\n",
    "$$\n",
    "\n",
    "Dado que \\(\\hat{y_P} = \\hat{y}\\), la diferencia entre los valores observados \\(y\\) y los valores predichos \\(\\hat{y_P}\\) será la misma que la diferencia entre \\(y\\) y \\(\\hat{y}\\). Por lo tanto, la RECM no se verá afectada por la ofuscación de los datos:\n",
    "$$\n",
    "\\text{RECM} = \\sqrt{\\frac{1}{n} \\sum_{i=1}^{n} (y_i - \\hat{y}_i)^2} = \\sqrt{\\frac{1}{n} \\sum_{i=1}^{n} (y_i - \\hat{y_P}_i)^2}\n",
    "$$\n",
    "\n",
    "### Conclusión\n",
    "\n",
    "Hemos demostrado que la ofuscación de datos mediante una matriz \\(P\\) no afecta los valores predichos en un modelo de regresión lineal. Los valores predichos permanecen iguales, lo que implica que la calidad de la regresión lineal, medida mediante la RECM, también permanece igual. Esto confirma que la ofuscación de datos no afecta negativamente la capacidad del modelo para hacer predicciones precisas."
   ]
  },
  {
   "cell_type": "markdown",
   "metadata": {},
   "source": [
    "## Prueba de regresión lineal con ofuscación de datos"
   ]
  },
  {
   "cell_type": "markdown",
   "metadata": {},
   "source": [
    "Ahora, probemos que la regresión lineal pueda funcionar, en términos computacionales, con la transformación de ofuscación elegida.\n",
    "Construye un procedimiento o una clase que ejecute la regresión lineal opcionalmente con la ofuscación. Puedes usar una implementación de regresión lineal de scikit-learn o tu propia implementación.\n",
    "Ejecuta la regresión lineal para los datos originales y los ofuscados, compara los valores predichos y los valores de las métricas RMSE y $R^2$. ¿Hay alguna diferencia?"
   ]
  },
  {
   "cell_type": "markdown",
   "metadata": {},
   "source": [
    "**Procedimiento**\n",
    "\n",
    "- Crea una matriz cuadrada $P$ de números aleatorios.- Comprueba que sea invertible. Si no lo es, repite el primer paso hasta obtener una matriz invertible.- <¡ tu comentario aquí !>\n",
    "- Utiliza $XP$ como la nueva matriz de características"
   ]
  },
  {
   "cell_type": "code",
   "execution_count": 40,
   "metadata": {},
   "outputs": [],
   "source": [
    "# Paso 1: Crear una matriz P de números aleatorios y asegurarse de que sea invertible\n",
    "def generate_invertible_matrix(size):\n",
    "    while True:\n",
    "        P = np.random.rand(size, size)\n",
    "        if np.linalg.det(P) != 0:\n",
    "            return P\n",
    "\n",
    "# Paso 2: Ofuscar los datos\n",
    "def obfuscate_data(X, P):\n",
    "    return X @ P\n",
    "\n",
    "# Paso 3: Procedimiento para realizar la regresión lineal y comparar resultados\n",
    "def perform_regression(X, y):\n",
    "    # Dividir los datos en entrenamiento y prueba\n",
    "    X_train, X_test, y_train, y_test = train_test_split(X, y, test_size=0.3, random_state=12345)\n",
    "    \n",
    "        # Crear y entrenar el modelo de regresión lineal\n",
    "    model = LinearRegression()\n",
    "    model.fit(X_train, y_train)\n",
    "    \n",
    "    # Realizar predicciones\n",
    "    y_train_pred = model.predict(X_train)\n",
    "    y_test_pred = model.predict(X_test)\n",
    "    \n",
    "    # Calcular métricas\n",
    "    train_rmse = np.sqrt(mean_squared_error(y_train, y_train_pred))\n",
    "    test_rmse = np.sqrt(mean_squared_error(y_test, y_test_pred))\n",
    "    train_r2 = r2_score(y_train, y_train_pred)\n",
    "    test_r2 = r2_score(y_test, y_test_pred)\n",
    "    \n",
    "    return train_rmse, test_rmse, train_r2, test_r2, y_test_pred\n"
   ]
  },
  {
   "cell_type": "code",
   "execution_count": 41,
   "metadata": {},
   "outputs": [],
   "source": [
    "X = df[['age', 'gender', 'income', 'family_members']].to_numpy()\n",
    "y = df['insurance_benefits'].to_numpy()\n",
    "\n",
    "# Crear la matriz invertible P\n",
    "P = generate_invertible_matrix(X.shape[1])\n",
    "\n",
    "# Ofuscar los datos\n",
    "X_obfuscated = obfuscate_data(X, P)"
   ]
  },
  {
   "cell_type": "code",
   "execution_count": 42,
   "metadata": {},
   "outputs": [
    {
     "name": "stdout",
     "output_type": "stream",
     "text": [
      "Métricas para los datos originales:\n",
      "RMSE (Train): 0.35\n",
      "RMSE (Test): 0.36\n",
      "R^2 (Train): 0.43\n",
      "R^2 (Test): 0.43\n",
      "\n",
      "Métricas para los datos ofuscados:\n",
      "RMSE (Train): 0.35\n",
      "RMSE (Test): 0.36\n",
      "R^2 (Train): 0.43\n",
      "R^2 (Test): 0.43\n",
      "\n",
      "Comparación de valores predichos (algunos ejemplos):\n",
      "Valores predichos con datos originales (ejemplos): [-0.1066821   0.22650175  0.21925153  0.40597151  0.66140087]\n",
      "Valores predichos con datos ofuscados (ejemplos): [-0.1066821   0.22650175  0.21925153  0.40597151  0.66140087]\n"
     ]
    }
   ],
   "source": [
    "# Evaluar el modelo con los datos originales\n",
    "original_metrics = perform_regression(X, y)\n",
    "\n",
    "# Evaluar el modelo con los datos ofuscados\n",
    "obfuscated_metrics = perform_regression(X_obfuscated, y)\n",
    "\n",
    "# Imprimir los resultados\n",
    "print(\"Métricas para los datos originales:\")\n",
    "print(f\"RMSE (Train): {original_metrics[0]:.2f}\")\n",
    "print(f\"RMSE (Test): {original_metrics[1]:.2f}\")\n",
    "print(f\"R^2 (Train): {original_metrics[2]:.2f}\")\n",
    "print(f\"R^2 (Test): {original_metrics[3]:.2f}\")\n",
    "\n",
    "print(\"\\nMétricas para los datos ofuscados:\")\n",
    "print(f\"RMSE (Train): {obfuscated_metrics[0]:.2f}\")\n",
    "print(f\"RMSE (Test): {obfuscated_metrics[1]:.2f}\")\n",
    "print(f\"R^2 (Train): {obfuscated_metrics[2]:.2f}\")\n",
    "print(f\"R^2 (Test): {obfuscated_metrics[3]:.2f}\")\n",
    "\n",
    "# Comparar valores predichos\n",
    "print(\"\\nComparación de valores predichos (algunos ejemplos):\")\n",
    "print(f\"Valores predichos con datos originales (ejemplos): {original_metrics[4][:5]}\")\n",
    "print(f\"Valores predichos con datos ofuscados (ejemplos): {obfuscated_metrics[4][:5]}\")"
   ]
  },
  {
   "cell_type": "markdown",
   "metadata": {},
   "source": [
    "Con este procedimiento, podemos demostrar que la regresión lineal no se ve afectada por la ofuscación de datos en términos de valores predichos y métricas de rendimiento."
   ]
  },
  {
   "cell_type": "markdown",
   "metadata": {},
   "source": [
    "# Conclusiones"
   ]
  },
  {
   "cell_type": "markdown",
   "metadata": {},
   "source": [
    "Ofuscación de Datos y Protección de la Privacidad:\n",
    "\n",
    "Efectividad de la Ofuscación: La ofuscación de datos mediante la multiplicación por una matriz invertible \n",
    "𝑃\n",
    "P es efectiva para proteger la privacidad de los datos. Esta transformación hace que sea difícil, si no imposible, inferir los valores originales de las características sensibles (como edad e ingresos) sin conocer la matriz \n",
    "𝑃\n",
    "P.\n",
    "Recuperación de Datos Originales: Si \n",
    "𝑃\n",
    "P es conocida, es posible recuperar los datos originales mediante la multiplicación por la inversa de \n",
    "𝑃\n",
    "P, demostrando que la transformación es reversible y segura para proteger la privacidad de los datos mientras permite la recuperación cuando sea necesario."
   ]
  },
  {
   "cell_type": "markdown",
   "metadata": {},
   "source": [
    "Regresión Lineal y Ofuscación:\n",
    "\n",
    "Consistencia de la Predicción: La regresión lineal, cuando se aplica a datos ofuscados, produce los mismos valores predichos que con los datos originales. Esto se debe a que los coeficientes del modelo se ajustan de manera que la transformación no afecta la capacidad del modelo para capturar las relaciones subyacentes en los datos.\n",
    "Métricas de Rendimiento: Las métricas de rendimiento como RMSE y \n",
    "𝑅\n",
    "2\n",
    "R \n",
    "2\n",
    "  son consistentes entre los modelos entrenados con datos originales y ofuscados. Esto demuestra que la calidad de las predicciones no se ve afectada por la ofuscación de los datos."
   ]
  },
  {
   "cell_type": "markdown",
   "metadata": {},
   "source": [
    "Demostración Analítica:\n",
    "\n",
    "Relación entre \n",
    "𝑤\n",
    " y \n",
    "𝑤\n",
    "𝑃\n",
    "​\n",
    " : Analíticamente, se demostró que los coeficientes del modelo \n",
    "𝑤\n",
    "w y los coeficientes del modelo ajustado con datos ofuscados \n",
    "𝑤\n",
    "𝑃\n",
    "w \n",
    "P\n",
    "​\n",
    "  están relacionados de manera que el modelo predice los mismos valores. Esta relación asegura que la ofuscación no impacta la capacidad del modelo de regresión lineal para hacer predicciones precisas.\n",
    "Valores Predichos: Los valores predichos por el modelo entrenado con datos ofuscados son equivalentes a los valores predichos por el modelo entrenado con datos originales. Esto es una demostración fuerte de que la ofuscación de datos es una técnica viable para proteger la privacidad sin sacrificar la precisión del modelo."
   ]
  },
  {
   "cell_type": "markdown",
   "metadata": {},
   "source": [
    "Implicaciones para la Calidad de la Regresión:\n",
    "\n",
    "Invariancia de la Calidad del Modelo: La ofuscación de datos, tal como se implementa mediante la multiplicación por una matriz invertible, no afecta la calidad del modelo de regresión lineal. Las métricas de error y de ajuste siguen siendo las mismas, lo que implica que la transformación preserva la estructura y la información esencial de los datos.\n",
    "Robustez del Modelo: La capacidad del modelo para manejar datos ofuscados sugiere que la regresión lineal es robusta a transformaciones lineales de los datos, siempre que se pueda revertir la transformación. Esto tiene importantes implicaciones para la privacidad y la seguridad de los datos en aplicaciones del mundo real."
   ]
  },
  {
   "cell_type": "markdown",
   "metadata": {},
   "source": [
    "### Conclusión Final\n",
    "El proyecto demuestra que la ofuscación de datos mediante la multiplicación por una matriz invertible es una técnica eficaz para proteger la privacidad de los datos sin comprometer la precisión y la calidad de los modelos de regresión lineal. Esta técnica permite mantener la seguridad de los datos sensibles mientras se garantiza que los modelos predictivos puedan seguir funcionando con la misma eficacia. La implementación y la validación analítica de este enfoque subrayan su viabilidad y utilidad en el manejo seguro de datos en aplicaciones de aprendizaje automático y análisis de datos.\n",
    "\n",
    "\n",
    "\n",
    "\n",
    "\n",
    "\n"
   ]
  },
  {
   "cell_type": "code",
   "execution_count": null,
   "metadata": {},
   "outputs": [],
   "source": []
  }
 ],
 "metadata": {
  "ExecuteTimeLog": [
   {
    "duration": 4404,
    "start_time": "2024-06-20T17:10:10.761Z"
   },
   {
    "duration": 5174,
    "start_time": "2024-06-20T17:10:15.169Z"
   },
   {
    "duration": 18,
    "start_time": "2024-06-20T17:10:20.346Z"
   },
   {
    "duration": 5,
    "start_time": "2024-06-20T17:10:20.368Z"
   },
   {
    "duration": 18,
    "start_time": "2024-06-20T17:10:20.377Z"
   },
   {
    "duration": 40,
    "start_time": "2024-06-20T17:10:20.398Z"
   },
   {
    "duration": 4,
    "start_time": "2024-06-20T17:10:20.440Z"
   },
   {
    "duration": 4,
    "start_time": "2024-06-20T17:10:20.447Z"
   },
   {
    "duration": 6,
    "start_time": "2024-06-20T17:10:20.454Z"
   },
   {
    "duration": 5133,
    "start_time": "2024-06-20T17:10:20.465Z"
   },
   {
    "duration": 4,
    "start_time": "2024-06-20T17:10:25.603Z"
   },
   {
    "duration": 10,
    "start_time": "2024-06-20T17:10:25.611Z"
   },
   {
    "duration": 0,
    "start_time": "2024-06-20T17:10:25.633Z"
   },
   {
    "duration": 0,
    "start_time": "2024-06-20T17:10:25.636Z"
   },
   {
    "duration": 0,
    "start_time": "2024-06-20T17:10:25.638Z"
   },
   {
    "duration": 0,
    "start_time": "2024-06-20T17:10:25.640Z"
   },
   {
    "duration": 0,
    "start_time": "2024-06-20T17:10:25.642Z"
   },
   {
    "duration": 0,
    "start_time": "2024-06-20T17:10:25.647Z"
   },
   {
    "duration": 0,
    "start_time": "2024-06-20T17:10:25.649Z"
   },
   {
    "duration": 0,
    "start_time": "2024-06-20T17:10:25.652Z"
   },
   {
    "duration": 0,
    "start_time": "2024-06-20T17:10:25.655Z"
   },
   {
    "duration": 0,
    "start_time": "2024-06-20T17:10:25.658Z"
   },
   {
    "duration": 0,
    "start_time": "2024-06-20T17:10:25.834Z"
   },
   {
    "duration": 0,
    "start_time": "2024-06-20T17:10:25.836Z"
   },
   {
    "duration": 0,
    "start_time": "2024-06-20T17:10:25.838Z"
   },
   {
    "duration": 5,
    "start_time": "2024-06-20T17:19:19.493Z"
   },
   {
    "duration": 4,
    "start_time": "2024-06-20T17:20:17.342Z"
   },
   {
    "duration": 14,
    "start_time": "2024-06-20T17:20:36.519Z"
   },
   {
    "duration": 228,
    "start_time": "2024-06-20T17:20:56.223Z"
   },
   {
    "duration": 29,
    "start_time": "2024-06-20T17:21:09.263Z"
   },
   {
    "duration": 5,
    "start_time": "2024-06-24T17:41:58.717Z"
   },
   {
    "duration": 5216,
    "start_time": "2024-06-24T17:41:58.726Z"
   },
   {
    "duration": 18,
    "start_time": "2024-06-24T17:42:03.946Z"
   },
   {
    "duration": 6,
    "start_time": "2024-06-24T17:42:03.967Z"
   },
   {
    "duration": 38,
    "start_time": "2024-06-24T17:42:03.979Z"
   },
   {
    "duration": 15,
    "start_time": "2024-06-24T17:42:04.020Z"
   },
   {
    "duration": 5,
    "start_time": "2024-06-24T17:42:04.038Z"
   },
   {
    "duration": 55,
    "start_time": "2024-06-24T17:42:04.047Z"
   },
   {
    "duration": 29,
    "start_time": "2024-06-24T17:42:04.105Z"
   },
   {
    "duration": 4913,
    "start_time": "2024-06-24T17:42:04.137Z"
   },
   {
    "duration": 3,
    "start_time": "2024-06-24T17:42:09.058Z"
   },
   {
    "duration": 9,
    "start_time": "2024-06-24T17:42:09.065Z"
   },
   {
    "duration": 0,
    "start_time": "2024-06-24T17:42:09.077Z"
   },
   {
    "duration": 0,
    "start_time": "2024-06-24T17:42:09.079Z"
   },
   {
    "duration": 0,
    "start_time": "2024-06-24T17:42:09.080Z"
   },
   {
    "duration": 0,
    "start_time": "2024-06-24T17:42:09.082Z"
   },
   {
    "duration": 0,
    "start_time": "2024-06-24T17:42:09.083Z"
   },
   {
    "duration": 0,
    "start_time": "2024-06-24T17:42:09.101Z"
   },
   {
    "duration": 0,
    "start_time": "2024-06-24T17:42:09.104Z"
   },
   {
    "duration": 0,
    "start_time": "2024-06-24T17:42:09.107Z"
   },
   {
    "duration": 0,
    "start_time": "2024-06-24T17:42:09.109Z"
   },
   {
    "duration": 0,
    "start_time": "2024-06-24T17:42:09.112Z"
   },
   {
    "duration": 0,
    "start_time": "2024-06-24T17:42:09.114Z"
   },
   {
    "duration": 0,
    "start_time": "2024-06-24T17:42:09.118Z"
   },
   {
    "duration": 0,
    "start_time": "2024-06-24T17:42:09.119Z"
   },
   {
    "duration": 13,
    "start_time": "2024-06-24T17:55:37.769Z"
   },
   {
    "duration": 11,
    "start_time": "2024-06-24T18:11:47.616Z"
   },
   {
    "duration": 7,
    "start_time": "2024-06-24T18:19:15.875Z"
   },
   {
    "duration": 9,
    "start_time": "2024-06-24T18:24:49.233Z"
   },
   {
    "duration": 15,
    "start_time": "2024-06-24T18:24:51.499Z"
   },
   {
    "duration": 15,
    "start_time": "2024-06-24T18:24:56.440Z"
   },
   {
    "duration": 578,
    "start_time": "2024-06-24T18:25:10.274Z"
   },
   {
    "duration": 8,
    "start_time": "2024-06-24T18:25:46.570Z"
   },
   {
    "duration": 927,
    "start_time": "2024-06-24T18:25:50.883Z"
   },
   {
    "duration": 4,
    "start_time": "2024-06-24T18:26:28.367Z"
   },
   {
    "duration": 104,
    "start_time": "2024-06-24T18:26:31.442Z"
   },
   {
    "duration": 111,
    "start_time": "2024-06-24T18:27:42.617Z"
   },
   {
    "duration": 26,
    "start_time": "2024-06-24T18:28:11.999Z"
   },
   {
    "duration": 6,
    "start_time": "2024-06-24T18:28:20.197Z"
   },
   {
    "duration": 29,
    "start_time": "2024-06-24T18:28:24.895Z"
   },
   {
    "duration": 116,
    "start_time": "2024-06-24T18:28:42.656Z"
   },
   {
    "duration": 26,
    "start_time": "2024-06-24T18:30:26.639Z"
   },
   {
    "duration": 116,
    "start_time": "2024-06-24T18:30:45.443Z"
   },
   {
    "duration": 7,
    "start_time": "2024-06-24T18:32:35.787Z"
   },
   {
    "duration": 107,
    "start_time": "2024-06-24T18:32:45.545Z"
   },
   {
    "duration": 120,
    "start_time": "2024-06-24T18:35:26.368Z"
   },
   {
    "duration": 11,
    "start_time": "2024-06-24T18:39:28.861Z"
   },
   {
    "duration": 13,
    "start_time": "2024-06-24T18:39:44.239Z"
   },
   {
    "duration": 15,
    "start_time": "2024-06-24T18:40:06.981Z"
   },
   {
    "duration": 11,
    "start_time": "2024-06-24T18:41:20.591Z"
   },
   {
    "duration": 51,
    "start_time": "2024-06-24T18:41:35.757Z"
   },
   {
    "duration": 13,
    "start_time": "2024-06-24T18:42:09.177Z"
   },
   {
    "duration": 44,
    "start_time": "2024-06-24T18:42:20.232Z"
   },
   {
    "duration": 12,
    "start_time": "2024-06-24T18:44:11.093Z"
   },
   {
    "duration": 6,
    "start_time": "2024-06-24T18:45:18.981Z"
   },
   {
    "duration": 1654,
    "start_time": "2024-06-24T18:45:18.991Z"
   },
   {
    "duration": 16,
    "start_time": "2024-06-24T18:45:20.648Z"
   },
   {
    "duration": 5,
    "start_time": "2024-06-24T18:45:20.667Z"
   },
   {
    "duration": 38,
    "start_time": "2024-06-24T18:45:20.677Z"
   },
   {
    "duration": 16,
    "start_time": "2024-06-24T18:45:20.718Z"
   },
   {
    "duration": 5,
    "start_time": "2024-06-24T18:45:20.737Z"
   },
   {
    "duration": 16,
    "start_time": "2024-06-24T18:45:20.745Z"
   },
   {
    "duration": 28,
    "start_time": "2024-06-24T18:45:20.803Z"
   },
   {
    "duration": 15,
    "start_time": "2024-06-24T18:45:20.836Z"
   },
   {
    "duration": 4993,
    "start_time": "2024-06-24T18:45:20.857Z"
   },
   {
    "duration": 4,
    "start_time": "2024-06-24T18:45:25.853Z"
   },
   {
    "duration": 12,
    "start_time": "2024-06-24T18:45:25.862Z"
   },
   {
    "duration": 0,
    "start_time": "2024-06-24T18:45:25.878Z"
   },
   {
    "duration": 0,
    "start_time": "2024-06-24T18:45:25.881Z"
   },
   {
    "duration": 0,
    "start_time": "2024-06-24T18:45:25.883Z"
   },
   {
    "duration": 0,
    "start_time": "2024-06-24T18:45:25.885Z"
   },
   {
    "duration": 0,
    "start_time": "2024-06-24T18:45:25.886Z"
   },
   {
    "duration": 0,
    "start_time": "2024-06-24T18:45:25.887Z"
   },
   {
    "duration": 0,
    "start_time": "2024-06-24T18:45:25.888Z"
   },
   {
    "duration": 0,
    "start_time": "2024-06-24T18:45:25.902Z"
   },
   {
    "duration": 0,
    "start_time": "2024-06-24T18:45:25.904Z"
   },
   {
    "duration": 0,
    "start_time": "2024-06-24T18:45:25.906Z"
   },
   {
    "duration": 0,
    "start_time": "2024-06-24T18:45:25.908Z"
   },
   {
    "duration": 0,
    "start_time": "2024-06-24T18:45:25.911Z"
   },
   {
    "duration": 0,
    "start_time": "2024-06-24T18:45:25.913Z"
   },
   {
    "duration": 0,
    "start_time": "2024-06-24T18:45:25.916Z"
   },
   {
    "duration": 0,
    "start_time": "2024-06-24T18:45:25.919Z"
   },
   {
    "duration": 0,
    "start_time": "2024-06-24T18:45:25.921Z"
   },
   {
    "duration": 0,
    "start_time": "2024-06-24T18:45:25.923Z"
   },
   {
    "duration": 11,
    "start_time": "2024-06-24T18:48:29.605Z"
   },
   {
    "duration": 13,
    "start_time": "2024-06-24T18:48:41.187Z"
   },
   {
    "duration": 11,
    "start_time": "2024-06-24T18:48:48.647Z"
   },
   {
    "duration": 547,
    "start_time": "2024-06-24T18:48:54.032Z"
   },
   {
    "duration": 10,
    "start_time": "2024-06-24T18:49:13.121Z"
   },
   {
    "duration": 11,
    "start_time": "2024-06-24T18:49:21.911Z"
   },
   {
    "duration": 50,
    "start_time": "2024-06-24T18:49:32.732Z"
   },
   {
    "duration": 7,
    "start_time": "2024-06-24T18:53:01.615Z"
   },
   {
    "duration": 20,
    "start_time": "2024-06-24T18:53:52.556Z"
   },
   {
    "duration": 22,
    "start_time": "2024-06-24T18:53:54.934Z"
   },
   {
    "duration": 34,
    "start_time": "2024-06-24T18:53:57.972Z"
   },
   {
    "duration": 38,
    "start_time": "2024-06-24T18:54:01.138Z"
   },
   {
    "duration": 2069,
    "start_time": "2024-06-24T19:04:57.836Z"
   },
   {
    "duration": 4,
    "start_time": "2024-06-24T19:17:41.929Z"
   },
   {
    "duration": 144,
    "start_time": "2024-06-24T19:22:30.107Z"
   },
   {
    "duration": 26,
    "start_time": "2024-06-24T19:28:33.335Z"
   },
   {
    "duration": 7,
    "start_time": "2024-06-24T19:28:40.128Z"
   },
   {
    "duration": 8,
    "start_time": "2024-06-24T19:29:24.696Z"
   },
   {
    "duration": 12,
    "start_time": "2024-06-24T19:29:30.619Z"
   },
   {
    "duration": 9,
    "start_time": "2024-06-24T19:32:50.763Z"
   },
   {
    "duration": 6,
    "start_time": "2024-06-24T19:33:27.575Z"
   },
   {
    "duration": 7,
    "start_time": "2024-06-24T19:33:52.355Z"
   },
   {
    "duration": 7,
    "start_time": "2024-06-24T19:33:55.702Z"
   },
   {
    "duration": 7,
    "start_time": "2024-06-24T19:34:16.672Z"
   },
   {
    "duration": 7,
    "start_time": "2024-06-24T19:34:19.066Z"
   },
   {
    "duration": 4,
    "start_time": "2024-06-24T19:34:41.982Z"
   },
   {
    "duration": 1605,
    "start_time": "2024-06-24T19:34:41.989Z"
   },
   {
    "duration": 14,
    "start_time": "2024-06-24T19:34:43.597Z"
   },
   {
    "duration": 5,
    "start_time": "2024-06-24T19:34:43.615Z"
   },
   {
    "duration": 21,
    "start_time": "2024-06-24T19:34:43.627Z"
   },
   {
    "duration": 55,
    "start_time": "2024-06-24T19:34:43.652Z"
   },
   {
    "duration": 6,
    "start_time": "2024-06-24T19:34:43.710Z"
   },
   {
    "duration": 16,
    "start_time": "2024-06-24T19:34:43.719Z"
   },
   {
    "duration": 65,
    "start_time": "2024-06-24T19:34:43.738Z"
   },
   {
    "duration": 12,
    "start_time": "2024-06-24T19:34:43.806Z"
   },
   {
    "duration": 5047,
    "start_time": "2024-06-24T19:34:43.823Z"
   },
   {
    "duration": 4,
    "start_time": "2024-06-24T19:34:48.873Z"
   },
   {
    "duration": 7,
    "start_time": "2024-06-24T19:34:48.880Z"
   },
   {
    "duration": 18,
    "start_time": "2024-06-24T19:34:48.890Z"
   },
   {
    "duration": 3,
    "start_time": "2024-06-24T19:34:48.911Z"
   },
   {
    "duration": 20,
    "start_time": "2024-06-24T19:34:48.917Z"
   },
   {
    "duration": 19,
    "start_time": "2024-06-24T19:34:48.940Z"
   },
   {
    "duration": 40,
    "start_time": "2024-06-24T19:34:49.001Z"
   },
   {
    "duration": 55,
    "start_time": "2024-06-24T19:34:49.045Z"
   },
   {
    "duration": 2432,
    "start_time": "2024-06-24T19:34:49.104Z"
   },
   {
    "duration": 0,
    "start_time": "2024-06-24T19:34:51.539Z"
   },
   {
    "duration": 0,
    "start_time": "2024-06-24T19:34:51.541Z"
   },
   {
    "duration": 0,
    "start_time": "2024-06-24T19:34:51.542Z"
   },
   {
    "duration": 0,
    "start_time": "2024-06-24T19:34:51.544Z"
   },
   {
    "duration": 0,
    "start_time": "2024-06-24T19:34:51.546Z"
   },
   {
    "duration": 0,
    "start_time": "2024-06-24T19:34:51.548Z"
   },
   {
    "duration": 0,
    "start_time": "2024-06-24T19:34:51.549Z"
   },
   {
    "duration": 0,
    "start_time": "2024-06-24T19:34:51.551Z"
   },
   {
    "duration": 0,
    "start_time": "2024-06-24T19:34:51.553Z"
   },
   {
    "duration": 0,
    "start_time": "2024-06-24T19:34:51.554Z"
   },
   {
    "duration": 0,
    "start_time": "2024-06-24T19:34:51.556Z"
   },
   {
    "duration": 129,
    "start_time": "2024-06-24T20:26:16.142Z"
   },
   {
    "duration": 7,
    "start_time": "2024-06-24T20:26:21.195Z"
   },
   {
    "duration": 6,
    "start_time": "2024-06-24T20:26:24.713Z"
   },
   {
    "duration": 9,
    "start_time": "2024-06-24T20:29:07.524Z"
   },
   {
    "duration": 5,
    "start_time": "2024-06-24T20:30:01.141Z"
   },
   {
    "duration": 4,
    "start_time": "2024-06-24T20:30:06.726Z"
   },
   {
    "duration": 7,
    "start_time": "2024-06-24T20:30:11.885Z"
   },
   {
    "duration": 5,
    "start_time": "2024-06-25T17:53:49.444Z"
   },
   {
    "duration": 5531,
    "start_time": "2024-06-25T17:53:49.460Z"
   },
   {
    "duration": 20,
    "start_time": "2024-06-25T17:53:55.001Z"
   },
   {
    "duration": 6,
    "start_time": "2024-06-25T17:53:55.029Z"
   },
   {
    "duration": 21,
    "start_time": "2024-06-25T17:53:55.041Z"
   },
   {
    "duration": 45,
    "start_time": "2024-06-25T17:53:55.065Z"
   },
   {
    "duration": 6,
    "start_time": "2024-06-25T17:53:55.113Z"
   },
   {
    "duration": 21,
    "start_time": "2024-06-25T17:53:55.123Z"
   },
   {
    "duration": 82,
    "start_time": "2024-06-25T17:53:55.148Z"
   },
   {
    "duration": 14,
    "start_time": "2024-06-25T17:53:55.235Z"
   },
   {
    "duration": 5954,
    "start_time": "2024-06-25T17:53:55.257Z"
   },
   {
    "duration": 9,
    "start_time": "2024-06-25T17:54:01.215Z"
   },
   {
    "duration": 10,
    "start_time": "2024-06-25T17:54:01.228Z"
   },
   {
    "duration": 19,
    "start_time": "2024-06-25T17:54:01.244Z"
   },
   {
    "duration": 4,
    "start_time": "2024-06-25T17:54:01.267Z"
   },
   {
    "duration": 51,
    "start_time": "2024-06-25T17:54:01.275Z"
   },
   {
    "duration": 22,
    "start_time": "2024-06-25T17:54:01.330Z"
   },
   {
    "duration": 58,
    "start_time": "2024-06-25T17:54:01.357Z"
   },
   {
    "duration": 45,
    "start_time": "2024-06-25T17:54:01.419Z"
   },
   {
    "duration": 35,
    "start_time": "2024-06-25T17:54:01.467Z"
   },
   {
    "duration": 8,
    "start_time": "2024-06-25T17:54:01.506Z"
   },
   {
    "duration": 9,
    "start_time": "2024-06-25T17:54:01.519Z"
   },
   {
    "duration": 10,
    "start_time": "2024-06-25T17:54:01.532Z"
   },
   {
    "duration": 6,
    "start_time": "2024-06-25T17:54:01.547Z"
   },
   {
    "duration": 46,
    "start_time": "2024-06-25T17:54:01.557Z"
   },
   {
    "duration": 0,
    "start_time": "2024-06-25T17:54:01.608Z"
   },
   {
    "duration": 0,
    "start_time": "2024-06-25T17:54:01.612Z"
   },
   {
    "duration": 0,
    "start_time": "2024-06-25T17:54:01.615Z"
   },
   {
    "duration": 0,
    "start_time": "2024-06-25T17:54:01.618Z"
   },
   {
    "duration": 0,
    "start_time": "2024-06-25T17:54:01.621Z"
   },
   {
    "duration": 0,
    "start_time": "2024-06-25T17:54:01.625Z"
   },
   {
    "duration": 1004,
    "start_time": "2024-06-25T17:59:44.542Z"
   },
   {
    "duration": 7,
    "start_time": "2024-06-25T18:01:31.290Z"
   },
   {
    "duration": 6,
    "start_time": "2024-06-25T18:01:32.835Z"
   },
   {
    "duration": 132,
    "start_time": "2024-06-25T18:01:38.323Z"
   },
   {
    "duration": 5,
    "start_time": "2024-06-25T18:02:05.006Z"
   },
   {
    "duration": 9,
    "start_time": "2024-06-25T18:02:59.285Z"
   },
   {
    "duration": 5,
    "start_time": "2024-06-25T18:03:02.166Z"
   },
   {
    "duration": 151,
    "start_time": "2024-06-25T18:03:08.096Z"
   },
   {
    "duration": 11,
    "start_time": "2024-06-25T18:05:55.687Z"
   },
   {
    "duration": 1832,
    "start_time": "2024-06-25T18:05:55.703Z"
   },
   {
    "duration": 16,
    "start_time": "2024-06-25T18:05:57.539Z"
   },
   {
    "duration": 9,
    "start_time": "2024-06-25T18:05:57.559Z"
   },
   {
    "duration": 41,
    "start_time": "2024-06-25T18:05:57.574Z"
   },
   {
    "duration": 19,
    "start_time": "2024-06-25T18:05:57.619Z"
   },
   {
    "duration": 6,
    "start_time": "2024-06-25T18:05:57.642Z"
   },
   {
    "duration": 59,
    "start_time": "2024-06-25T18:05:57.652Z"
   },
   {
    "duration": 32,
    "start_time": "2024-06-25T18:05:57.714Z"
   },
   {
    "duration": 14,
    "start_time": "2024-06-25T18:05:57.749Z"
   },
   {
    "duration": 5545,
    "start_time": "2024-06-25T18:05:57.805Z"
   },
   {
    "duration": 4,
    "start_time": "2024-06-25T18:06:03.355Z"
   },
   {
    "duration": 7,
    "start_time": "2024-06-25T18:06:03.364Z"
   },
   {
    "duration": 31,
    "start_time": "2024-06-25T18:06:03.375Z"
   },
   {
    "duration": 5,
    "start_time": "2024-06-25T18:06:03.409Z"
   },
   {
    "duration": 9,
    "start_time": "2024-06-25T18:06:03.418Z"
   },
   {
    "duration": 20,
    "start_time": "2024-06-25T18:06:03.431Z"
   },
   {
    "duration": 61,
    "start_time": "2024-06-25T18:06:03.455Z"
   },
   {
    "duration": 41,
    "start_time": "2024-06-25T18:06:03.521Z"
   },
   {
    "duration": 69,
    "start_time": "2024-06-25T18:06:03.566Z"
   },
   {
    "duration": 10,
    "start_time": "2024-06-25T18:06:03.639Z"
   },
   {
    "duration": 5,
    "start_time": "2024-06-25T18:06:03.654Z"
   },
   {
    "duration": 42,
    "start_time": "2024-06-25T18:06:03.663Z"
   },
   {
    "duration": 7,
    "start_time": "2024-06-25T18:06:03.708Z"
   },
   {
    "duration": 5,
    "start_time": "2024-06-25T18:06:03.719Z"
   },
   {
    "duration": 800,
    "start_time": "2024-06-25T18:06:03.729Z"
   },
   {
    "duration": 0,
    "start_time": "2024-06-25T18:06:04.534Z"
   },
   {
    "duration": 0,
    "start_time": "2024-06-25T18:06:04.535Z"
   },
   {
    "duration": 0,
    "start_time": "2024-06-25T18:06:04.537Z"
   },
   {
    "duration": 0,
    "start_time": "2024-06-25T18:06:04.543Z"
   },
   {
    "duration": 0,
    "start_time": "2024-06-25T18:06:04.546Z"
   },
   {
    "duration": 0,
    "start_time": "2024-06-25T18:06:04.549Z"
   },
   {
    "duration": 6,
    "start_time": "2024-06-25T18:09:55.382Z"
   },
   {
    "duration": 5,
    "start_time": "2024-06-25T18:09:56.773Z"
   },
   {
    "duration": 133,
    "start_time": "2024-06-25T18:09:57.919Z"
   },
   {
    "duration": 8,
    "start_time": "2024-06-25T18:23:43.077Z"
   },
   {
    "duration": 6,
    "start_time": "2024-06-25T18:23:50.428Z"
   },
   {
    "duration": 6,
    "start_time": "2024-06-25T18:24:05.077Z"
   },
   {
    "duration": 7,
    "start_time": "2024-06-25T18:24:24.271Z"
   },
   {
    "duration": 355,
    "start_time": "2024-06-27T20:12:02.502Z"
   },
   {
    "duration": 4,
    "start_time": "2024-06-27T20:12:11.245Z"
   },
   {
    "duration": 5306,
    "start_time": "2024-06-27T20:12:11.254Z"
   },
   {
    "duration": 16,
    "start_time": "2024-06-27T20:12:16.565Z"
   },
   {
    "duration": 9,
    "start_time": "2024-06-27T20:12:16.584Z"
   },
   {
    "duration": 18,
    "start_time": "2024-06-27T20:12:16.599Z"
   },
   {
    "duration": 16,
    "start_time": "2024-06-27T20:12:16.620Z"
   },
   {
    "duration": 5,
    "start_time": "2024-06-27T20:12:16.639Z"
   },
   {
    "duration": 14,
    "start_time": "2024-06-27T20:12:16.692Z"
   },
   {
    "duration": 29,
    "start_time": "2024-06-27T20:12:16.710Z"
   },
   {
    "duration": 49,
    "start_time": "2024-06-27T20:12:16.742Z"
   },
   {
    "duration": 5174,
    "start_time": "2024-06-27T20:12:16.797Z"
   },
   {
    "duration": 6,
    "start_time": "2024-06-27T20:12:21.976Z"
   },
   {
    "duration": 8,
    "start_time": "2024-06-27T20:12:21.986Z"
   },
   {
    "duration": 17,
    "start_time": "2024-06-27T20:12:21.998Z"
   },
   {
    "duration": 4,
    "start_time": "2024-06-27T20:12:22.018Z"
   },
   {
    "duration": 8,
    "start_time": "2024-06-27T20:12:22.027Z"
   },
   {
    "duration": 69,
    "start_time": "2024-06-27T20:12:22.040Z"
   },
   {
    "duration": 26,
    "start_time": "2024-06-27T20:12:22.113Z"
   },
   {
    "duration": 66,
    "start_time": "2024-06-27T20:12:22.143Z"
   },
   {
    "duration": 36,
    "start_time": "2024-06-27T20:12:22.212Z"
   },
   {
    "duration": 41,
    "start_time": "2024-06-27T20:12:22.252Z"
   },
   {
    "duration": 6,
    "start_time": "2024-06-27T20:12:22.298Z"
   },
   {
    "duration": 7,
    "start_time": "2024-06-27T20:12:22.308Z"
   },
   {
    "duration": 11,
    "start_time": "2024-06-27T20:12:22.318Z"
   },
   {
    "duration": 8,
    "start_time": "2024-06-27T20:12:22.334Z"
   },
   {
    "duration": 54,
    "start_time": "2024-06-27T20:12:22.345Z"
   },
   {
    "duration": 45,
    "start_time": "2024-06-27T20:12:22.403Z"
   },
   {
    "duration": 41,
    "start_time": "2024-06-27T20:12:22.451Z"
   },
   {
    "duration": 0,
    "start_time": "2024-06-27T20:12:22.498Z"
   },
   {
    "duration": 0,
    "start_time": "2024-06-27T20:12:22.503Z"
   },
   {
    "duration": 0,
    "start_time": "2024-06-27T20:12:22.505Z"
   },
   {
    "duration": 0,
    "start_time": "2024-06-27T20:12:22.508Z"
   },
   {
    "duration": 0,
    "start_time": "2024-06-27T20:12:22.510Z"
   },
   {
    "duration": 14,
    "start_time": "2024-06-27T23:27:26.324Z"
   },
   {
    "duration": 5,
    "start_time": "2024-06-27T23:27:44.453Z"
   },
   {
    "duration": 5304,
    "start_time": "2024-06-27T23:27:44.462Z"
   },
   {
    "duration": 16,
    "start_time": "2024-06-27T23:27:49.770Z"
   },
   {
    "duration": 5,
    "start_time": "2024-06-27T23:27:49.789Z"
   },
   {
    "duration": 35,
    "start_time": "2024-06-27T23:27:49.799Z"
   },
   {
    "duration": 15,
    "start_time": "2024-06-27T23:27:49.838Z"
   },
   {
    "duration": 5,
    "start_time": "2024-06-27T23:27:49.856Z"
   },
   {
    "duration": 16,
    "start_time": "2024-06-27T23:27:49.865Z"
   },
   {
    "duration": 76,
    "start_time": "2024-06-27T23:27:49.884Z"
   },
   {
    "duration": 14,
    "start_time": "2024-06-27T23:27:49.964Z"
   },
   {
    "duration": 4937,
    "start_time": "2024-06-27T23:27:49.986Z"
   },
   {
    "duration": 4,
    "start_time": "2024-06-27T23:27:54.926Z"
   },
   {
    "duration": 8,
    "start_time": "2024-06-27T23:27:54.933Z"
   },
   {
    "duration": 15,
    "start_time": "2024-06-27T23:27:54.944Z"
   },
   {
    "duration": 3,
    "start_time": "2024-06-27T23:27:54.961Z"
   },
   {
    "duration": 7,
    "start_time": "2024-06-27T23:27:54.967Z"
   },
   {
    "duration": 74,
    "start_time": "2024-06-27T23:27:54.978Z"
   },
   {
    "duration": 19,
    "start_time": "2024-06-27T23:27:55.054Z"
   },
   {
    "duration": 33,
    "start_time": "2024-06-27T23:27:55.076Z"
   },
   {
    "duration": 32,
    "start_time": "2024-06-27T23:27:55.130Z"
   },
   {
    "duration": 9,
    "start_time": "2024-06-27T23:27:55.165Z"
   },
   {
    "duration": 5,
    "start_time": "2024-06-27T23:27:55.178Z"
   },
   {
    "duration": 44,
    "start_time": "2024-06-27T23:27:55.186Z"
   },
   {
    "duration": 10,
    "start_time": "2024-06-27T23:27:55.233Z"
   },
   {
    "duration": 5,
    "start_time": "2024-06-27T23:27:55.247Z"
   },
   {
    "duration": 5,
    "start_time": "2024-06-27T23:27:55.255Z"
   },
   {
    "duration": 75,
    "start_time": "2024-06-27T23:27:55.262Z"
   },
   {
    "duration": 6,
    "start_time": "2024-06-27T23:27:55.341Z"
   },
   {
    "duration": 4,
    "start_time": "2024-06-27T23:27:55.354Z"
   },
   {
    "duration": 662,
    "start_time": "2024-06-27T23:27:55.362Z"
   },
   {
    "duration": 0,
    "start_time": "2024-06-27T23:27:56.026Z"
   },
   {
    "duration": 0,
    "start_time": "2024-06-27T23:27:56.033Z"
   },
   {
    "duration": 0,
    "start_time": "2024-06-27T23:27:56.036Z"
   },
   {
    "duration": 5238,
    "start_time": "2024-06-28T02:12:25.137Z"
   },
   {
    "duration": 413,
    "start_time": "2024-06-28T02:12:37.371Z"
   },
   {
    "duration": 4,
    "start_time": "2024-06-28T02:12:44.932Z"
   },
   {
    "duration": 1604,
    "start_time": "2024-06-28T02:12:44.942Z"
   },
   {
    "duration": 14,
    "start_time": "2024-06-28T02:12:46.549Z"
   },
   {
    "duration": 5,
    "start_time": "2024-06-28T02:12:46.566Z"
   },
   {
    "duration": 18,
    "start_time": "2024-06-28T02:12:46.575Z"
   },
   {
    "duration": 43,
    "start_time": "2024-06-28T02:12:46.596Z"
   },
   {
    "duration": 5,
    "start_time": "2024-06-28T02:12:46.642Z"
   },
   {
    "duration": 14,
    "start_time": "2024-06-28T02:12:46.650Z"
   },
   {
    "duration": 29,
    "start_time": "2024-06-28T02:12:46.667Z"
   },
   {
    "duration": 13,
    "start_time": "2024-06-28T02:12:46.734Z"
   },
   {
    "duration": 4960,
    "start_time": "2024-06-28T02:12:46.753Z"
   },
   {
    "duration": 3,
    "start_time": "2024-06-28T02:12:51.717Z"
   },
   {
    "duration": 9,
    "start_time": "2024-06-28T02:12:51.724Z"
   },
   {
    "duration": 14,
    "start_time": "2024-06-28T02:12:51.737Z"
   },
   {
    "duration": 4,
    "start_time": "2024-06-28T02:12:51.754Z"
   },
   {
    "duration": 7,
    "start_time": "2024-06-28T02:12:51.761Z"
   },
   {
    "duration": 20,
    "start_time": "2024-06-28T02:12:51.771Z"
   },
   {
    "duration": 19,
    "start_time": "2024-06-28T02:12:51.834Z"
   },
   {
    "duration": 33,
    "start_time": "2024-06-28T02:12:51.856Z"
   },
   {
    "duration": 67,
    "start_time": "2024-06-28T02:12:51.892Z"
   },
   {
    "duration": 9,
    "start_time": "2024-06-28T02:12:51.962Z"
   },
   {
    "duration": 5,
    "start_time": "2024-06-28T02:12:51.974Z"
   },
   {
    "duration": 7,
    "start_time": "2024-06-28T02:12:51.983Z"
   },
   {
    "duration": 51,
    "start_time": "2024-06-28T02:12:51.994Z"
   },
   {
    "duration": 5,
    "start_time": "2024-06-28T02:12:52.048Z"
   },
   {
    "duration": 5,
    "start_time": "2024-06-28T02:12:52.056Z"
   },
   {
    "duration": 68,
    "start_time": "2024-06-28T02:12:52.065Z"
   },
   {
    "duration": 7,
    "start_time": "2024-06-28T02:12:52.136Z"
   },
   {
    "duration": 5,
    "start_time": "2024-06-28T02:12:52.150Z"
   },
   {
    "duration": 18,
    "start_time": "2024-06-28T02:12:52.159Z"
   },
   {
    "duration": 67,
    "start_time": "2024-06-28T02:12:52.179Z"
   },
   {
    "duration": 4,
    "start_time": "2024-06-28T02:12:52.249Z"
   },
   {
    "duration": 78,
    "start_time": "2024-06-28T02:12:52.256Z"
   },
   {
    "duration": 4,
    "start_time": "2024-06-28T02:28:43.362Z"
   },
   {
    "duration": 5,
    "start_time": "2024-06-28T02:32:15.849Z"
   },
   {
    "duration": 5,
    "start_time": "2024-06-28T16:53:51.893Z"
   },
   {
    "duration": 5436,
    "start_time": "2024-06-28T16:53:51.902Z"
   },
   {
    "duration": 18,
    "start_time": "2024-06-28T16:53:57.341Z"
   },
   {
    "duration": 5,
    "start_time": "2024-06-28T16:53:57.365Z"
   },
   {
    "duration": 29,
    "start_time": "2024-06-28T16:53:57.374Z"
   },
   {
    "duration": 17,
    "start_time": "2024-06-28T16:53:57.406Z"
   },
   {
    "duration": 6,
    "start_time": "2024-06-28T16:53:57.426Z"
   },
   {
    "duration": 15,
    "start_time": "2024-06-28T16:53:57.436Z"
   },
   {
    "duration": 29,
    "start_time": "2024-06-28T16:53:57.502Z"
   },
   {
    "duration": 12,
    "start_time": "2024-06-28T16:53:57.535Z"
   },
   {
    "duration": 5122,
    "start_time": "2024-06-28T16:53:57.551Z"
   },
   {
    "duration": 4,
    "start_time": "2024-06-28T16:54:02.677Z"
   },
   {
    "duration": 8,
    "start_time": "2024-06-28T16:54:02.685Z"
   },
   {
    "duration": 16,
    "start_time": "2024-06-28T16:54:02.701Z"
   },
   {
    "duration": 8,
    "start_time": "2024-06-28T16:54:02.720Z"
   },
   {
    "duration": 7,
    "start_time": "2024-06-28T16:54:02.732Z"
   },
   {
    "duration": 21,
    "start_time": "2024-06-28T16:54:02.743Z"
   },
   {
    "duration": 49,
    "start_time": "2024-06-28T16:54:02.767Z"
   },
   {
    "duration": 35,
    "start_time": "2024-06-28T16:54:02.819Z"
   },
   {
    "duration": 69,
    "start_time": "2024-06-28T16:54:02.858Z"
   },
   {
    "duration": 8,
    "start_time": "2024-06-28T16:54:02.933Z"
   },
   {
    "duration": 6,
    "start_time": "2024-06-28T16:54:02.944Z"
   },
   {
    "duration": 8,
    "start_time": "2024-06-28T16:54:02.953Z"
   },
   {
    "duration": 38,
    "start_time": "2024-06-28T16:54:02.969Z"
   },
   {
    "duration": 6,
    "start_time": "2024-06-28T16:54:03.010Z"
   },
   {
    "duration": 5,
    "start_time": "2024-06-28T16:54:03.019Z"
   },
   {
    "duration": 37,
    "start_time": "2024-06-28T16:54:03.027Z"
   },
   {
    "duration": 40,
    "start_time": "2024-06-28T16:54:03.067Z"
   },
   {
    "duration": 5,
    "start_time": "2024-06-28T16:54:03.110Z"
   },
   {
    "duration": 26,
    "start_time": "2024-06-28T16:54:03.119Z"
   },
   {
    "duration": 7,
    "start_time": "2024-06-28T16:54:03.201Z"
   },
   {
    "duration": 6,
    "start_time": "2024-06-28T16:54:03.212Z"
   },
   {
    "duration": 6,
    "start_time": "2024-06-28T16:54:03.221Z"
   },
   {
    "duration": 74,
    "start_time": "2024-06-28T16:54:03.231Z"
   },
   {
    "duration": 20,
    "start_time": "2024-06-28T16:56:41.134Z"
   },
   {
    "duration": 5,
    "start_time": "2024-06-28T17:29:14.934Z"
   },
   {
    "duration": 5294,
    "start_time": "2024-06-28T17:29:14.942Z"
   },
   {
    "duration": 17,
    "start_time": "2024-06-28T17:29:20.239Z"
   },
   {
    "duration": 5,
    "start_time": "2024-06-28T17:29:20.260Z"
   },
   {
    "duration": 21,
    "start_time": "2024-06-28T17:29:20.268Z"
   },
   {
    "duration": 40,
    "start_time": "2024-06-28T17:29:20.292Z"
   },
   {
    "duration": 6,
    "start_time": "2024-06-28T17:29:20.336Z"
   },
   {
    "duration": 16,
    "start_time": "2024-06-28T17:29:20.345Z"
   },
   {
    "duration": 74,
    "start_time": "2024-06-28T17:29:20.367Z"
   },
   {
    "duration": 15,
    "start_time": "2024-06-28T17:29:20.444Z"
   },
   {
    "duration": 5016,
    "start_time": "2024-06-28T17:29:20.463Z"
   },
   {
    "duration": 4,
    "start_time": "2024-06-28T17:29:25.482Z"
   },
   {
    "duration": 7,
    "start_time": "2024-06-28T17:29:25.489Z"
   },
   {
    "duration": 15,
    "start_time": "2024-06-28T17:29:25.499Z"
   },
   {
    "duration": 14,
    "start_time": "2024-06-28T17:29:25.517Z"
   },
   {
    "duration": 7,
    "start_time": "2024-06-28T17:29:25.534Z"
   },
   {
    "duration": 19,
    "start_time": "2024-06-28T17:29:25.544Z"
   },
   {
    "duration": 19,
    "start_time": "2024-06-28T17:29:25.565Z"
   },
   {
    "duration": 76,
    "start_time": "2024-06-28T17:29:25.586Z"
   },
   {
    "duration": 34,
    "start_time": "2024-06-28T17:29:25.666Z"
   },
   {
    "duration": 31,
    "start_time": "2024-06-28T17:29:25.703Z"
   },
   {
    "duration": 6,
    "start_time": "2024-06-28T17:29:25.736Z"
   },
   {
    "duration": 7,
    "start_time": "2024-06-28T17:29:25.745Z"
   },
   {
    "duration": 10,
    "start_time": "2024-06-28T17:29:25.759Z"
   },
   {
    "duration": 5,
    "start_time": "2024-06-28T17:29:25.772Z"
   },
   {
    "duration": 51,
    "start_time": "2024-06-28T17:29:25.780Z"
   },
   {
    "duration": 41,
    "start_time": "2024-06-28T17:29:25.834Z"
   },
   {
    "duration": 6,
    "start_time": "2024-06-28T17:29:25.878Z"
   },
   {
    "duration": 5,
    "start_time": "2024-06-28T17:29:25.888Z"
   },
   {
    "duration": 16,
    "start_time": "2024-06-28T17:29:25.932Z"
   },
   {
    "duration": 10,
    "start_time": "2024-06-28T17:29:25.951Z"
   },
   {
    "duration": 5,
    "start_time": "2024-06-28T17:29:26.032Z"
   },
   {
    "duration": 16,
    "start_time": "2024-06-28T17:29:26.040Z"
   },
   {
    "duration": 74,
    "start_time": "2024-06-28T17:29:26.059Z"
   },
   {
    "duration": 95,
    "start_time": "2024-06-28T17:29:26.137Z"
   },
   {
    "duration": 5,
    "start_time": "2024-06-28T18:36:44.660Z"
   },
   {
    "duration": 5183,
    "start_time": "2024-06-28T18:36:44.670Z"
   },
   {
    "duration": 17,
    "start_time": "2024-06-28T18:36:49.857Z"
   },
   {
    "duration": 5,
    "start_time": "2024-06-28T18:36:49.877Z"
   },
   {
    "duration": 36,
    "start_time": "2024-06-28T18:36:49.886Z"
   },
   {
    "duration": 16,
    "start_time": "2024-06-28T18:36:49.925Z"
   },
   {
    "duration": 5,
    "start_time": "2024-06-28T18:36:49.944Z"
   },
   {
    "duration": 15,
    "start_time": "2024-06-28T18:36:49.952Z"
   },
   {
    "duration": 32,
    "start_time": "2024-06-28T18:36:50.013Z"
   },
   {
    "duration": 14,
    "start_time": "2024-06-28T18:36:50.048Z"
   },
   {
    "duration": 5717,
    "start_time": "2024-06-28T18:36:50.068Z"
   },
   {
    "duration": 5,
    "start_time": "2024-06-28T18:36:55.788Z"
   },
   {
    "duration": 12,
    "start_time": "2024-06-28T18:36:55.797Z"
   },
   {
    "duration": 15,
    "start_time": "2024-06-28T18:36:55.813Z"
   },
   {
    "duration": 4,
    "start_time": "2024-06-28T18:36:55.831Z"
   },
   {
    "duration": 7,
    "start_time": "2024-06-28T18:36:55.839Z"
   },
   {
    "duration": 63,
    "start_time": "2024-06-28T18:36:55.850Z"
   },
   {
    "duration": 23,
    "start_time": "2024-06-28T18:36:55.919Z"
   },
   {
    "duration": 43,
    "start_time": "2024-06-28T18:36:55.945Z"
   },
   {
    "duration": 58,
    "start_time": "2024-06-28T18:36:55.991Z"
   },
   {
    "duration": 8,
    "start_time": "2024-06-28T18:36:56.052Z"
   },
   {
    "duration": 10,
    "start_time": "2024-06-28T18:36:56.064Z"
   },
   {
    "duration": 43,
    "start_time": "2024-06-28T18:36:56.077Z"
   },
   {
    "duration": 12,
    "start_time": "2024-06-28T18:36:56.124Z"
   },
   {
    "duration": 7,
    "start_time": "2024-06-28T18:36:56.140Z"
   },
   {
    "duration": 6,
    "start_time": "2024-06-28T18:36:56.150Z"
   },
   {
    "duration": 79,
    "start_time": "2024-06-28T18:36:56.159Z"
   },
   {
    "duration": 7,
    "start_time": "2024-06-28T18:36:56.241Z"
   },
   {
    "duration": 8,
    "start_time": "2024-06-28T18:36:56.257Z"
   },
   {
    "duration": 51,
    "start_time": "2024-06-28T18:36:56.269Z"
   },
   {
    "duration": 8,
    "start_time": "2024-06-28T18:36:56.323Z"
   },
   {
    "duration": 77,
    "start_time": "2024-06-28T18:36:56.335Z"
   },
   {
    "duration": 7,
    "start_time": "2024-06-28T18:36:56.418Z"
   },
   {
    "duration": 14,
    "start_time": "2024-06-28T18:36:56.429Z"
   },
   {
    "duration": 67,
    "start_time": "2024-06-28T18:36:56.447Z"
   },
   {
    "duration": 5,
    "start_time": "2024-06-28T22:34:28.193Z"
   },
   {
    "duration": 5790,
    "start_time": "2024-06-28T22:34:28.202Z"
   },
   {
    "duration": 18,
    "start_time": "2024-06-28T22:34:33.995Z"
   },
   {
    "duration": 6,
    "start_time": "2024-06-28T22:34:34.016Z"
   },
   {
    "duration": 19,
    "start_time": "2024-06-28T22:34:34.024Z"
   },
   {
    "duration": 17,
    "start_time": "2024-06-28T22:34:34.046Z"
   },
   {
    "duration": 4,
    "start_time": "2024-06-28T22:34:34.102Z"
   },
   {
    "duration": 14,
    "start_time": "2024-06-28T22:34:34.110Z"
   },
   {
    "duration": 29,
    "start_time": "2024-06-28T22:34:34.130Z"
   },
   {
    "duration": 49,
    "start_time": "2024-06-28T22:34:34.162Z"
   },
   {
    "duration": 5061,
    "start_time": "2024-06-28T22:34:34.214Z"
   },
   {
    "duration": 5,
    "start_time": "2024-06-28T22:34:39.280Z"
   },
   {
    "duration": 12,
    "start_time": "2024-06-28T22:34:39.289Z"
   },
   {
    "duration": 15,
    "start_time": "2024-06-28T22:34:39.306Z"
   },
   {
    "duration": 4,
    "start_time": "2024-06-28T22:34:39.326Z"
   },
   {
    "duration": 9,
    "start_time": "2024-06-28T22:34:39.334Z"
   },
   {
    "duration": 56,
    "start_time": "2024-06-28T22:34:39.346Z"
   },
   {
    "duration": 21,
    "start_time": "2024-06-28T22:34:39.406Z"
   },
   {
    "duration": 34,
    "start_time": "2024-06-28T22:34:39.431Z"
   },
   {
    "duration": 34,
    "start_time": "2024-06-28T22:34:39.500Z"
   },
   {
    "duration": 10,
    "start_time": "2024-06-28T22:34:39.537Z"
   },
   {
    "duration": 5,
    "start_time": "2024-06-28T22:34:39.550Z"
   },
   {
    "duration": 44,
    "start_time": "2024-06-28T22:34:39.559Z"
   },
   {
    "duration": 8,
    "start_time": "2024-06-28T22:34:39.612Z"
   },
   {
    "duration": 5,
    "start_time": "2024-06-28T22:34:39.623Z"
   },
   {
    "duration": 4,
    "start_time": "2024-06-28T22:34:39.632Z"
   },
   {
    "duration": 92,
    "start_time": "2024-06-28T22:34:39.640Z"
   },
   {
    "duration": 8,
    "start_time": "2024-06-28T22:34:39.736Z"
   },
   {
    "duration": 6,
    "start_time": "2024-06-28T22:34:39.748Z"
   },
   {
    "duration": 50,
    "start_time": "2024-06-28T22:34:39.757Z"
   },
   {
    "duration": 12,
    "start_time": "2024-06-28T22:34:39.809Z"
   },
   {
    "duration": 7,
    "start_time": "2024-06-28T22:34:39.824Z"
   },
   {
    "duration": 73,
    "start_time": "2024-06-28T22:34:39.835Z"
   },
   {
    "duration": 6,
    "start_time": "2024-06-28T22:34:39.911Z"
   },
   {
    "duration": 88,
    "start_time": "2024-06-28T22:34:39.921Z"
   },
   {
    "duration": 6,
    "start_time": "2024-06-28T22:37:06.616Z"
   },
   {
    "duration": 8,
    "start_time": "2024-06-28T22:38:19.694Z"
   },
   {
    "duration": 7,
    "start_time": "2024-06-28T22:39:23.502Z"
   },
   {
    "duration": 19,
    "start_time": "2024-06-28T22:40:02.350Z"
   },
   {
    "duration": 28,
    "start_time": "2024-06-28T22:42:46.063Z"
   },
   {
    "duration": 5,
    "start_time": "2024-06-30T13:09:00.892Z"
   },
   {
    "duration": 1849,
    "start_time": "2024-06-30T13:09:00.902Z"
   },
   {
    "duration": 19,
    "start_time": "2024-06-30T13:09:02.754Z"
   },
   {
    "duration": 5,
    "start_time": "2024-06-30T13:09:02.777Z"
   },
   {
    "duration": 41,
    "start_time": "2024-06-30T13:09:02.786Z"
   },
   {
    "duration": 16,
    "start_time": "2024-06-30T13:09:02.831Z"
   },
   {
    "duration": 6,
    "start_time": "2024-06-30T13:09:02.851Z"
   },
   {
    "duration": 16,
    "start_time": "2024-06-30T13:09:02.860Z"
   },
   {
    "duration": 30,
    "start_time": "2024-06-30T13:09:02.926Z"
   },
   {
    "duration": 13,
    "start_time": "2024-06-30T13:09:02.959Z"
   },
   {
    "duration": 10738,
    "start_time": "2024-06-30T13:09:02.976Z"
   },
   {
    "duration": 4,
    "start_time": "2024-06-30T13:09:13.723Z"
   },
   {
    "duration": 7,
    "start_time": "2024-06-30T13:09:13.731Z"
   },
   {
    "duration": 16,
    "start_time": "2024-06-30T13:09:13.742Z"
   },
   {
    "duration": 5,
    "start_time": "2024-06-30T13:09:13.761Z"
   },
   {
    "duration": 53,
    "start_time": "2024-06-30T13:09:13.770Z"
   },
   {
    "duration": 20,
    "start_time": "2024-06-30T13:09:13.827Z"
   },
   {
    "duration": 18,
    "start_time": "2024-06-30T13:09:13.850Z"
   },
   {
    "duration": 77,
    "start_time": "2024-06-30T13:09:13.872Z"
   },
   {
    "duration": 39,
    "start_time": "2024-06-30T13:09:13.952Z"
   },
   {
    "duration": 34,
    "start_time": "2024-06-30T13:09:13.995Z"
   },
   {
    "duration": 7,
    "start_time": "2024-06-30T13:09:14.033Z"
   },
   {
    "duration": 8,
    "start_time": "2024-06-30T13:09:14.044Z"
   },
   {
    "duration": 11,
    "start_time": "2024-06-30T13:09:14.060Z"
   },
   {
    "duration": 51,
    "start_time": "2024-06-30T13:09:14.075Z"
   },
   {
    "duration": 10,
    "start_time": "2024-06-30T13:09:14.129Z"
   },
   {
    "duration": 39,
    "start_time": "2024-06-30T13:09:14.142Z"
   },
   {
    "duration": 38,
    "start_time": "2024-06-30T13:09:14.184Z"
   },
   {
    "duration": 5,
    "start_time": "2024-06-30T13:09:14.225Z"
   },
   {
    "duration": 18,
    "start_time": "2024-06-30T13:09:14.233Z"
   },
   {
    "duration": 70,
    "start_time": "2024-06-30T13:09:14.254Z"
   },
   {
    "duration": 4,
    "start_time": "2024-06-30T13:09:14.328Z"
   },
   {
    "duration": 5,
    "start_time": "2024-06-30T13:09:14.336Z"
   },
   {
    "duration": 81,
    "start_time": "2024-06-30T13:09:14.344Z"
   },
   {
    "duration": 97,
    "start_time": "2024-06-30T13:09:14.429Z"
   },
   {
    "duration": 13,
    "start_time": "2024-06-30T13:09:14.534Z"
   },
   {
    "duration": 6,
    "start_time": "2024-06-30T13:09:14.625Z"
   },
   {
    "duration": 17,
    "start_time": "2024-06-30T13:09:14.635Z"
   },
   {
    "duration": 5449,
    "start_time": "2024-07-02T00:53:12.737Z"
   },
   {
    "duration": 519,
    "start_time": "2024-07-02T00:57:43.168Z"
   },
   {
    "duration": 4,
    "start_time": "2024-07-02T00:57:53.430Z"
   },
   {
    "duration": 1693,
    "start_time": "2024-07-02T00:57:53.438Z"
   },
   {
    "duration": 18,
    "start_time": "2024-07-02T00:57:55.134Z"
   },
   {
    "duration": 6,
    "start_time": "2024-07-02T00:57:55.154Z"
   },
   {
    "duration": 20,
    "start_time": "2024-07-02T00:57:55.164Z"
   },
   {
    "duration": 39,
    "start_time": "2024-07-02T00:57:55.187Z"
   },
   {
    "duration": 6,
    "start_time": "2024-07-02T00:57:55.230Z"
   },
   {
    "duration": 16,
    "start_time": "2024-07-02T00:57:55.239Z"
   },
   {
    "duration": 79,
    "start_time": "2024-07-02T00:57:55.259Z"
   },
   {
    "duration": 13,
    "start_time": "2024-07-02T00:57:55.341Z"
   },
   {
    "duration": 5188,
    "start_time": "2024-07-02T00:57:55.361Z"
   },
   {
    "duration": 5,
    "start_time": "2024-07-02T00:58:00.553Z"
   },
   {
    "duration": 7,
    "start_time": "2024-07-02T00:58:00.562Z"
   },
   {
    "duration": 15,
    "start_time": "2024-07-02T00:58:00.573Z"
   },
   {
    "duration": 20,
    "start_time": "2024-07-02T00:58:00.591Z"
   },
   {
    "duration": 9,
    "start_time": "2024-07-02T00:58:00.615Z"
   },
   {
    "duration": 21,
    "start_time": "2024-07-02T00:58:00.627Z"
   },
   {
    "duration": 57,
    "start_time": "2024-07-02T00:58:00.652Z"
   },
   {
    "duration": 35,
    "start_time": "2024-07-02T00:58:00.711Z"
   },
   {
    "duration": 62,
    "start_time": "2024-07-02T00:58:00.749Z"
   },
   {
    "duration": 8,
    "start_time": "2024-07-02T00:58:00.816Z"
   },
   {
    "duration": 7,
    "start_time": "2024-07-02T00:58:00.827Z"
   },
   {
    "duration": 9,
    "start_time": "2024-07-02T00:58:00.838Z"
   },
   {
    "duration": 12,
    "start_time": "2024-07-02T00:58:00.851Z"
   },
   {
    "duration": 11,
    "start_time": "2024-07-02T00:58:00.911Z"
   },
   {
    "duration": 7,
    "start_time": "2024-07-02T00:58:00.926Z"
   },
   {
    "duration": 5,
    "start_time": "2024-07-02T00:58:00.937Z"
   },
   {
    "duration": 87,
    "start_time": "2024-07-02T00:58:00.945Z"
   },
   {
    "duration": 6,
    "start_time": "2024-07-02T00:58:01.039Z"
   },
   {
    "duration": 5,
    "start_time": "2024-07-02T00:58:01.050Z"
   },
   {
    "duration": 52,
    "start_time": "2024-07-02T00:58:01.059Z"
   },
   {
    "duration": 6,
    "start_time": "2024-07-02T00:58:01.113Z"
   },
   {
    "duration": 4,
    "start_time": "2024-07-02T00:58:01.122Z"
   },
   {
    "duration": 79,
    "start_time": "2024-07-02T00:58:01.130Z"
   },
   {
    "duration": 5,
    "start_time": "2024-07-02T00:58:01.213Z"
   },
   {
    "duration": 93,
    "start_time": "2024-07-02T00:58:01.222Z"
   },
   {
    "duration": 9,
    "start_time": "2024-07-02T00:58:01.318Z"
   },
   {
    "duration": 79,
    "start_time": "2024-07-02T00:58:01.330Z"
   },
   {
    "duration": 23,
    "start_time": "2024-07-02T00:58:01.412Z"
   },
   {
    "duration": 447,
    "start_time": "2024-07-02T01:01:49.766Z"
   },
   {
    "duration": 103,
    "start_time": "2024-07-02T01:02:35.652Z"
   },
   {
    "duration": 6,
    "start_time": "2024-07-02T01:03:15.963Z"
   },
   {
    "duration": 1651,
    "start_time": "2024-07-02T01:03:27.258Z"
   },
   {
    "duration": 4,
    "start_time": "2024-07-12T21:52:11.924Z"
   },
   {
    "duration": 1635,
    "start_time": "2024-07-12T21:52:11.932Z"
   },
   {
    "duration": 15,
    "start_time": "2024-07-12T21:52:13.570Z"
   },
   {
    "duration": 6,
    "start_time": "2024-07-12T21:52:13.588Z"
   },
   {
    "duration": 42,
    "start_time": "2024-07-12T21:52:13.599Z"
   },
   {
    "duration": 15,
    "start_time": "2024-07-12T21:52:13.644Z"
   },
   {
    "duration": 5,
    "start_time": "2024-07-12T21:52:13.662Z"
   },
   {
    "duration": 14,
    "start_time": "2024-07-12T21:52:13.671Z"
   },
   {
    "duration": 71,
    "start_time": "2024-07-12T21:52:13.688Z"
   },
   {
    "duration": 11,
    "start_time": "2024-07-12T21:52:13.762Z"
   },
   {
    "duration": 5025,
    "start_time": "2024-07-12T21:52:13.779Z"
   },
   {
    "duration": 6,
    "start_time": "2024-07-12T21:52:18.808Z"
   },
   {
    "duration": 7,
    "start_time": "2024-07-12T21:52:18.818Z"
   },
   {
    "duration": 18,
    "start_time": "2024-07-12T21:52:18.832Z"
   },
   {
    "duration": 4,
    "start_time": "2024-07-12T21:52:18.853Z"
   },
   {
    "duration": 8,
    "start_time": "2024-07-12T21:52:18.860Z"
   },
   {
    "duration": 25,
    "start_time": "2024-07-12T21:52:18.872Z"
   },
   {
    "duration": 20,
    "start_time": "2024-07-12T21:52:18.932Z"
   },
   {
    "duration": 39,
    "start_time": "2024-07-12T21:52:18.955Z"
   },
   {
    "duration": 62,
    "start_time": "2024-07-12T21:52:18.997Z"
   },
   {
    "duration": 10,
    "start_time": "2024-07-12T21:52:19.062Z"
   },
   {
    "duration": 5,
    "start_time": "2024-07-12T21:52:19.078Z"
   },
   {
    "duration": 45,
    "start_time": "2024-07-12T21:52:19.086Z"
   },
   {
    "duration": 12,
    "start_time": "2024-07-12T21:52:19.134Z"
   },
   {
    "duration": 8,
    "start_time": "2024-07-12T21:52:19.149Z"
   },
   {
    "duration": 5,
    "start_time": "2024-07-12T21:52:19.160Z"
   },
   {
    "duration": 4,
    "start_time": "2024-07-12T21:52:19.168Z"
   },
   {
    "duration": 90,
    "start_time": "2024-07-12T21:52:19.175Z"
   },
   {
    "duration": 1553,
    "start_time": "2024-07-12T21:52:19.272Z"
   },
   {
    "duration": 7,
    "start_time": "2024-07-12T21:52:20.832Z"
   },
   {
    "duration": 7,
    "start_time": "2024-07-12T21:52:20.843Z"
   },
   {
    "duration": 78,
    "start_time": "2024-07-12T21:52:20.853Z"
   },
   {
    "duration": 10,
    "start_time": "2024-07-12T21:52:20.934Z"
   },
   {
    "duration": 85,
    "start_time": "2024-07-12T21:52:20.946Z"
   },
   {
    "duration": 5,
    "start_time": "2024-07-12T21:52:21.034Z"
   },
   {
    "duration": 5,
    "start_time": "2024-07-12T21:52:21.043Z"
   },
   {
    "duration": 20,
    "start_time": "2024-07-12T21:52:21.052Z"
   },
   {
    "duration": 11,
    "start_time": "2024-07-12T21:52:21.137Z"
   },
   {
    "duration": 78,
    "start_time": "2024-07-12T21:52:21.155Z"
   },
   {
    "duration": 26,
    "start_time": "2024-07-12T21:52:21.236Z"
   },
   {
    "duration": 12,
    "start_time": "2024-07-12T22:19:35.970Z"
   },
   {
    "duration": 7,
    "start_time": "2024-07-12T22:25:29.146Z"
   },
   {
    "duration": 4,
    "start_time": "2024-07-12T22:25:51.427Z"
   },
   {
    "duration": 1694,
    "start_time": "2024-07-12T22:25:51.436Z"
   },
   {
    "duration": 15,
    "start_time": "2024-07-12T22:25:53.134Z"
   },
   {
    "duration": 5,
    "start_time": "2024-07-12T22:25:53.152Z"
   },
   {
    "duration": 20,
    "start_time": "2024-07-12T22:25:53.162Z"
   },
   {
    "duration": 48,
    "start_time": "2024-07-12T22:25:53.185Z"
   },
   {
    "duration": 6,
    "start_time": "2024-07-12T22:25:53.236Z"
   },
   {
    "duration": 15,
    "start_time": "2024-07-12T22:25:53.245Z"
   },
   {
    "duration": 29,
    "start_time": "2024-07-12T22:25:53.265Z"
   },
   {
    "duration": 12,
    "start_time": "2024-07-12T22:25:53.332Z"
   },
   {
    "duration": 12,
    "start_time": "2024-07-12T22:25:53.349Z"
   },
   {
    "duration": 7,
    "start_time": "2024-07-12T22:25:53.364Z"
   },
   {
    "duration": 4938,
    "start_time": "2024-07-12T22:25:53.374Z"
   },
   {
    "duration": 4,
    "start_time": "2024-07-12T22:25:58.316Z"
   },
   {
    "duration": 8,
    "start_time": "2024-07-12T22:25:58.332Z"
   },
   {
    "duration": 22,
    "start_time": "2024-07-12T22:25:58.343Z"
   },
   {
    "duration": 6,
    "start_time": "2024-07-12T22:25:58.368Z"
   },
   {
    "duration": 11,
    "start_time": "2024-07-12T22:25:58.377Z"
   },
   {
    "duration": 56,
    "start_time": "2024-07-12T22:25:58.394Z"
   },
   {
    "duration": 19,
    "start_time": "2024-07-12T22:25:58.456Z"
   },
   {
    "duration": 52,
    "start_time": "2024-07-12T22:25:58.481Z"
   },
   {
    "duration": 33,
    "start_time": "2024-07-12T22:25:58.536Z"
   },
   {
    "duration": 8,
    "start_time": "2024-07-12T22:25:58.572Z"
   },
   {
    "duration": 4,
    "start_time": "2024-07-12T22:25:58.584Z"
   },
   {
    "duration": 7,
    "start_time": "2024-07-12T22:25:58.630Z"
   },
   {
    "duration": 11,
    "start_time": "2024-07-12T22:25:58.640Z"
   },
   {
    "duration": 8,
    "start_time": "2024-07-12T22:25:58.654Z"
   },
   {
    "duration": 5,
    "start_time": "2024-07-12T22:25:58.666Z"
   },
   {
    "duration": 4,
    "start_time": "2024-07-12T22:25:58.680Z"
   },
   {
    "duration": 79,
    "start_time": "2024-07-12T22:25:58.686Z"
   },
   {
    "duration": 1513,
    "start_time": "2024-07-12T22:25:58.770Z"
   },
   {
    "duration": 6,
    "start_time": "2024-07-12T22:26:00.287Z"
   },
   {
    "duration": 6,
    "start_time": "2024-07-12T22:26:00.296Z"
   },
   {
    "duration": 38,
    "start_time": "2024-07-12T22:26:00.305Z"
   },
   {
    "duration": 6,
    "start_time": "2024-07-12T22:26:00.345Z"
   },
   {
    "duration": 5,
    "start_time": "2024-07-12T22:26:00.355Z"
   },
   {
    "duration": 4,
    "start_time": "2024-07-12T22:26:00.433Z"
   },
   {
    "duration": 5,
    "start_time": "2024-07-12T22:26:00.441Z"
   },
   {
    "duration": 105,
    "start_time": "2024-07-12T22:26:00.449Z"
   },
   {
    "duration": 10,
    "start_time": "2024-07-12T22:26:00.632Z"
   },
   {
    "duration": 8,
    "start_time": "2024-07-12T22:26:00.646Z"
   },
   {
    "duration": 90,
    "start_time": "2024-07-12T22:26:00.657Z"
   }
  ],
  "kernelspec": {
   "display_name": "Python 3 (ipykernel)",
   "language": "python",
   "name": "python3"
  },
  "language_info": {
   "codemirror_mode": {
    "name": "ipython",
    "version": 3
   },
   "file_extension": ".py",
   "mimetype": "text/x-python",
   "name": "python",
   "nbconvert_exporter": "python",
   "pygments_lexer": "ipython3",
   "version": "3.9.19"
  },
  "toc": {
   "base_numbering": 1,
   "nav_menu": {},
   "number_sections": true,
   "sideBar": true,
   "skip_h1_title": true,
   "title_cell": "Table of Contents",
   "title_sidebar": "Contents",
   "toc_cell": false,
   "toc_position": {},
   "toc_section_display": true,
   "toc_window_display": false
  }
 },
 "nbformat": 4,
 "nbformat_minor": 4
}
